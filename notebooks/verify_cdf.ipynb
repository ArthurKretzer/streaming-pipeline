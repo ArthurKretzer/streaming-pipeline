{
 "cells": [
  {
   "cell_type": "code",
   "execution_count": null,
   "metadata": {},
   "outputs": [
    {
     "name": "stderr",
     "output_type": "stream",
     "text": [
      "your 131072x1 screen size is bogus. expect trouble\n",
      "Warning: Ignoring non-Spark config property: delta.autoOptimize.optimizeWrite\n",
      "Warning: Ignoring non-Spark config property: delta.autoOptimize.autoCompact\n",
      "25/01/24 15:53:44 WARN Utils: Your hostname, CPC-12806 resolves to a loopback address: 127.0.1.1; using 172.26.242.248 instead (on interface eth0)\n",
      "25/01/24 15:53:44 WARN Utils: Set SPARK_LOCAL_IP if you need to bind to another address\n"
     ]
    },
    {
     "name": "stdout",
     "output_type": "stream",
     "text": [
      ":: loading settings :: url = jar:file:/home/arthur/streaming-pipeline/.venv/lib/python3.13/site-packages/pyspark/jars/ivy-2.5.1.jar!/org/apache/ivy/core/settings/ivysettings.xml\n"
     ]
    },
    {
     "name": "stderr",
     "output_type": "stream",
     "text": [
      "Ivy Default Cache set to: /home/arthur/.ivy2/cache\n",
      "The jars for the packages stored in: /home/arthur/.ivy2/jars\n",
      "org.apache.hadoop#hadoop-aws added as a dependency\n",
      "io.delta#delta-spark_2.12 added as a dependency\n",
      ":: resolving dependencies :: org.apache.spark#spark-submit-parent-172de65f-9bcd-4158-957b-c2c9ef76d088;1.0\n",
      "\tconfs: [default]\n",
      "\tfound org.apache.hadoop#hadoop-aws;3.3.4 in central\n",
      "\tfound com.amazonaws#aws-java-sdk-bundle;1.12.262 in central\n",
      "\tfound org.wildfly.openssl#wildfly-openssl;1.0.7.Final in central\n",
      "\tfound io.delta#delta-spark_2.12;3.3.0 in central\n",
      "\tfound io.delta#delta-storage;3.3.0 in central\n",
      "\tfound org.antlr#antlr4-runtime;4.9.3 in central\n",
      ":: resolution report :: resolve 315ms :: artifacts dl 16ms\n",
      "\t:: modules in use:\n",
      "\tcom.amazonaws#aws-java-sdk-bundle;1.12.262 from central in [default]\n",
      "\tio.delta#delta-spark_2.12;3.3.0 from central in [default]\n",
      "\tio.delta#delta-storage;3.3.0 from central in [default]\n",
      "\torg.antlr#antlr4-runtime;4.9.3 from central in [default]\n",
      "\torg.apache.hadoop#hadoop-aws;3.3.4 from central in [default]\n",
      "\torg.wildfly.openssl#wildfly-openssl;1.0.7.Final from central in [default]\n",
      "\t---------------------------------------------------------------------\n",
      "\t|                  |            modules            ||   artifacts   |\n",
      "\t|       conf       | number| search|dwnlded|evicted|| number|dwnlded|\n",
      "\t---------------------------------------------------------------------\n",
      "\t|      default     |   6   |   0   |   0   |   0   ||   6   |   0   |\n",
      "\t---------------------------------------------------------------------\n",
      ":: retrieving :: org.apache.spark#spark-submit-parent-172de65f-9bcd-4158-957b-c2c9ef76d088\n",
      "\tconfs: [default]\n",
      "\t0 artifacts copied, 6 already retrieved (0kB/11ms)\n",
      "25/01/24 15:53:45 WARN NativeCodeLoader: Unable to load native-hadoop library for your platform... using builtin-java classes where applicable\n",
      "Setting default log level to \"WARN\".\n",
      "To adjust logging level use sc.setLogLevel(newLevel). For SparkR, use setLogLevel(newLevel).\n"
     ]
    },
    {
     "name": "stdout",
     "output_type": "stream",
     "text": [
      "Spark session configured with Delta Lake and MinIO!\n"
     ]
    }
   ],
   "source": [
    "import os\n",
    "from pyspark.sql import SparkSession\n",
    "\n",
    "from dotenv import load_dotenv\n",
    "\n",
    "# Load environment variables from .env file\n",
    "load_dotenv()\n",
    "\n",
    "os.environ[\"PYSPARK_SUBMIT_ARGS\"] = \"--packages org.apache.hadoop:hadoop-aws:3.3.4,io.delta:delta-spark_2.12:3.3.0 pyspark-shell\"\n",
    "\n",
    "# Initialize Spark session with Delta Lake and MinIO support\n",
    "spark = SparkSession.builder \\\n",
    "    .appName(\"DeltaLakeWithMinIO\") \\\n",
    "    .config(\"spark.sql.extensions\", \"io.delta.sql.DeltaSparkSessionExtension\") \\\n",
    "    .config(\"spark.sql.catalog.spark_catalog\", \"org.apache.spark.sql.delta.catalog.DeltaCatalog\") \\\n",
    "    .config(\"delta.autoOptimize.optimizeWrite\", \"true\") \\\n",
    "    .config(\"delta.autoOptimize.autoCompact\", \"true\") \\\n",
    "    .config(\"spark.delta.logStore.class\", \"org.apache.spark.sql.delta.storage.S3SingleDriverLogStore\") \\\n",
    "    .config(\"spark.hadoop.fs.s3a.endpoint\", os.getenv(\"MINIO_ENDPOINT\")) \\\n",
    "    .config(\"spark.hadoop.fs.s3a.access.key\", os.getenv(\"MINIO_ACCESS_KEY\") \\\n",
    "    .config(\"spark.hadoop.fs.s3a.secret.key\", os.getenv(\"MINIO_SECRET_KEY\") \\\n",
    "    .config('spark.hadoop.fs.s3a.attempts.maximum', \"3\") \\\n",
    "    .config('spark.hadoop.fs.s3a.connection.timeout', \"10000\") \\\n",
    "    .config('spark.hadoop.fs.s3a.connection.establish.timeout', \"5000\") \\\n",
    "    .config(\"spark.hadoop.fs.s3a.path.style.access\", \"true\") \\\n",
    "    .config(\"spark.hadoop.fs.s3a.impl\", \"org.apache.hadoop.fs.s3a.S3AFileSystem\") \\\n",
    "    .config(\"spark.hadoop.fs.s3.impl\", \"org.apache.hadoop.fs.s3a.S3AFileSystem\") \\\n",
    "    .config(\"spark.hadoop.fs.s3n.impl\", \"org.apache.hadoop.fs.s3a.S3AFileSystem\") \\\n",
    "    .getOrCreate()\n",
    "\n",
    "print(\"Spark session configured with Delta Lake and MinIO!\")"
   ]
  },
  {
   "cell_type": "code",
   "execution_count": 23,
   "metadata": {},
   "outputs": [
    {
     "name": "stdout",
     "output_type": "stream",
     "text": [
      "+--------+\n",
      "|count(1)|\n",
      "+--------+\n",
      "|    5616|\n",
      "+--------+\n",
      "\n"
     ]
    }
   ],
   "source": [
    "spark.sql(\"SELECT COUNT(*) FROM delta.`s3a://lakehouse/delta/processed_iot_data`;\").show(5)"
   ]
  },
  {
   "cell_type": "code",
   "execution_count": 24,
   "metadata": {},
   "outputs": [
    {
     "name": "stdout",
     "output_type": "stream",
     "text": [
      "+--------------------+-----------+------------+---------------+--------------------+\n",
      "|           timestamp|temperature|_change_type|_commit_version|   _commit_timestamp|\n",
      "+--------------------+-----------+------------+---------------+--------------------+\n",
      "|2025-01-16T17:00:...|       23.8|      insert|            133|2025-01-16 14:00:...|\n",
      "|2025-01-16T16:43:...|      25.29|      insert|             59|2025-01-16 13:43:...|\n",
      "|2025-01-16T16:49:...|      22.61|      insert|            110|2025-01-16 13:49:...|\n",
      "|2025-01-16T16:40:...|      21.82|      insert|             33|2025-01-16 13:40:...|\n",
      "|2025-01-16T16:44:...|      29.38|      insert|             68|2025-01-16 13:43:...|\n",
      "+--------------------+-----------+------------+---------------+--------------------+\n",
      "only showing top 5 rows\n",
      "\n"
     ]
    }
   ],
   "source": [
    "spark.sql(\"SELECT * FROM delta.`s3a://lakehouse/delta/processed_iot_data`;\").show(5)"
   ]
  },
  {
   "cell_type": "code",
   "execution_count": 15,
   "metadata": {},
   "outputs": [
    {
     "name": "stdout",
     "output_type": "stream",
     "text": [
      "+-----------------+---------+-------+\n",
      "|         col_name|data_type|comment|\n",
      "+-----------------+---------+-------+\n",
      "|        timestamp|   string|   NULL|\n",
      "|      temperature|   double|   NULL|\n",
      "|     _change_type|   string|   NULL|\n",
      "|  _commit_version|   bigint|   NULL|\n",
      "|_commit_timestamp|timestamp|   NULL|\n",
      "+-----------------+---------+-------+\n",
      "\n"
     ]
    }
   ],
   "source": [
    "spark.sql(\"DESCRIBE delta.`s3a://lakehouse/delta/processed_iot_data`;\").show()"
   ]
  },
  {
   "cell_type": "code",
   "execution_count": 22,
   "metadata": {},
   "outputs": [
    {
     "name": "stderr",
     "output_type": "stream",
     "text": [
      "[Stage 72:=======================================>               (36 + 12) / 50]\r"
     ]
    },
    {
     "name": "stdout",
     "output_type": "stream",
     "text": [
      "+------+------------------------------------+----+-----------+----------------------------------------+-----------------------+-------------------+----------------+-----------------+--------+-----------+----------+----------------+----------------+------------------------+\n",
      "|format|id                                  |name|description|location                                |createdAt              |lastModified       |partitionColumns|clusteringColumns|numFiles|sizeInBytes|properties|minReaderVersion|minWriterVersion|tableFeatures           |\n",
      "+------+------------------------------------+----+-----------+----------------------------------------+-----------------------+-------------------+----------------+-----------------+--------+-----------+----------+----------------+----------------+------------------------+\n",
      "|delta |ad3a479d-ade0-4e6b-94bb-05816c71c18c|NULL|NULL       |s3a://lakehouse/delta/processed_iot_data|2025-01-16 13:37:09.164|2025-01-16 14:00:21|[]              |[]               |755     |1458873    |{}        |1               |2               |[appendOnly, invariants]|\n",
      "+------+------------------------------------+----+-----------+----------------------------------------+-----------------------+-------------------+----------------+-----------------+--------+-----------+----------+----------------+----------------+------------------------+\n",
      "\n"
     ]
    },
    {
     "name": "stderr",
     "output_type": "stream",
     "text": [
      "                                                                                \r"
     ]
    }
   ],
   "source": [
    "spark.sql(\"DESCRIBE DETAIL delta.`s3a://lakehouse/delta/processed_iot_data`;\").show(truncate=False)"
   ]
  },
  {
   "cell_type": "code",
   "execution_count": 5,
   "metadata": {},
   "outputs": [
    {
     "name": "stdout",
     "output_type": "stream",
     "text": [
      "root\n",
      " |-- timestamp: string (nullable = true)\n",
      " |-- temperature: double (nullable = true)\n",
      " |-- _change_type: string (nullable = true)\n",
      " |-- _commit_version: long (nullable = true)\n",
      " |-- _commit_timestamp: timestamp (nullable = true)\n",
      "\n"
     ]
    }
   ],
   "source": [
    "df = spark.read.format(\"delta\").load(\"s3a://lakehouse/delta/processed_iot_data\")\n",
    "df.printSchema()"
   ]
  },
  {
   "cell_type": "code",
   "execution_count": 21,
   "metadata": {},
   "outputs": [
    {
     "name": "stderr",
     "output_type": "stream",
     "text": [
      "25/01/16 14:01:32 WARN ResolveWriteToStream: spark.sql.adaptive.enabled is not supported in streaming DataFrames/Datasets and will be disabled.\n"
     ]
    },
    {
     "name": "stdout",
     "output_type": "stream",
     "text": [
      "None\n",
      "{'id': 'bac56a91-3658-421d-8974-17c72e58191b', 'runId': 'e7a365e3-2592-4fee-a7a6-807934ad2aa2', 'name': None, 'timestamp': '2025-01-16T17:01:32.991Z', 'batchId': 0, 'numInputRows': 0, 'inputRowsPerSecond': 0.0, 'processedRowsPerSecond': 0.0, 'durationMs': {'latestOffset': 352, 'triggerExecution': 590}, 'stateOperators': [], 'sources': [{'description': 'DeltaSource[s3a://lakehouse/delta/processed_iot_data]', 'startOffset': None, 'endOffset': None, 'latestOffset': None, 'numInputRows': 0, 'inputRowsPerSecond': 0.0, 'processedRowsPerSecond': 0.0}], 'sink': {'description': 'org.apache.spark.sql.execution.streaming.ConsoleTable$@44ebbfa0', 'numOutputRows': -1}}\n",
      "{'id': 'bac56a91-3658-421d-8974-17c72e58191b', 'runId': 'e7a365e3-2592-4fee-a7a6-807934ad2aa2', 'name': None, 'timestamp': '2025-01-16T17:01:32.991Z', 'batchId': 0, 'numInputRows': 0, 'inputRowsPerSecond': 0.0, 'processedRowsPerSecond': 0.0, 'durationMs': {'latestOffset': 352, 'triggerExecution': 590}, 'stateOperators': [], 'sources': [{'description': 'DeltaSource[s3a://lakehouse/delta/processed_iot_data]', 'startOffset': None, 'endOffset': None, 'latestOffset': None, 'numInputRows': 0, 'inputRowsPerSecond': 0.0, 'processedRowsPerSecond': 0.0}], 'sink': {'description': 'org.apache.spark.sql.execution.streaming.ConsoleTable$@44ebbfa0', 'numOutputRows': -1}}\n",
      "{'id': 'bac56a91-3658-421d-8974-17c72e58191b', 'runId': 'e7a365e3-2592-4fee-a7a6-807934ad2aa2', 'name': None, 'timestamp': '2025-01-16T17:01:43.411Z', 'batchId': 0, 'numInputRows': 0, 'inputRowsPerSecond': 0.0, 'processedRowsPerSecond': 0.0, 'durationMs': {'latestOffset': 183, 'triggerExecution': 183}, 'stateOperators': [], 'sources': [{'description': 'DeltaSource[s3a://lakehouse/delta/processed_iot_data]', 'startOffset': None, 'endOffset': None, 'latestOffset': None, 'numInputRows': 0, 'inputRowsPerSecond': 0.0, 'processedRowsPerSecond': 0.0}], 'sink': {'description': 'org.apache.spark.sql.execution.streaming.ConsoleTable$@44ebbfa0', 'numOutputRows': -1}}\n",
      "{'id': 'bac56a91-3658-421d-8974-17c72e58191b', 'runId': 'e7a365e3-2592-4fee-a7a6-807934ad2aa2', 'name': None, 'timestamp': '2025-01-16T17:01:43.411Z', 'batchId': 0, 'numInputRows': 0, 'inputRowsPerSecond': 0.0, 'processedRowsPerSecond': 0.0, 'durationMs': {'latestOffset': 183, 'triggerExecution': 183}, 'stateOperators': [], 'sources': [{'description': 'DeltaSource[s3a://lakehouse/delta/processed_iot_data]', 'startOffset': None, 'endOffset': None, 'latestOffset': None, 'numInputRows': 0, 'inputRowsPerSecond': 0.0, 'processedRowsPerSecond': 0.0}], 'sink': {'description': 'org.apache.spark.sql.execution.streaming.ConsoleTable$@44ebbfa0', 'numOutputRows': -1}}\n",
      "{'id': 'bac56a91-3658-421d-8974-17c72e58191b', 'runId': 'e7a365e3-2592-4fee-a7a6-807934ad2aa2', 'name': None, 'timestamp': '2025-01-16T17:01:53.448Z', 'batchId': 0, 'numInputRows': 0, 'inputRowsPerSecond': 0.0, 'processedRowsPerSecond': 0.0, 'durationMs': {'latestOffset': 202, 'triggerExecution': 202}, 'stateOperators': [], 'sources': [{'description': 'DeltaSource[s3a://lakehouse/delta/processed_iot_data]', 'startOffset': None, 'endOffset': None, 'latestOffset': None, 'numInputRows': 0, 'inputRowsPerSecond': 0.0, 'processedRowsPerSecond': 0.0}], 'sink': {'description': 'org.apache.spark.sql.execution.streaming.ConsoleTable$@44ebbfa0', 'numOutputRows': -1}}\n",
      "{'id': 'bac56a91-3658-421d-8974-17c72e58191b', 'runId': 'e7a365e3-2592-4fee-a7a6-807934ad2aa2', 'name': None, 'timestamp': '2025-01-16T17:01:53.448Z', 'batchId': 0, 'numInputRows': 0, 'inputRowsPerSecond': 0.0, 'processedRowsPerSecond': 0.0, 'durationMs': {'latestOffset': 202, 'triggerExecution': 202}, 'stateOperators': [], 'sources': [{'description': 'DeltaSource[s3a://lakehouse/delta/processed_iot_data]', 'startOffset': None, 'endOffset': None, 'latestOffset': None, 'numInputRows': 0, 'inputRowsPerSecond': 0.0, 'processedRowsPerSecond': 0.0}], 'sink': {'description': 'org.apache.spark.sql.execution.streaming.ConsoleTable$@44ebbfa0', 'numOutputRows': -1}}\n"
     ]
    },
    {
     "ename": "KeyboardInterrupt",
     "evalue": "",
     "output_type": "error",
     "traceback": [
      "\u001b[0;31m---------------------------------------------------------------------------\u001b[0m",
      "\u001b[0;31mKeyboardInterrupt\u001b[0m                         Traceback (most recent call last)",
      "Cell \u001b[0;32mIn[21], line 24\u001b[0m\n\u001b[1;32m     22\u001b[0m \u001b[38;5;28;01mwhile\u001b[39;00m query\u001b[38;5;241m.\u001b[39misActive:\n\u001b[1;32m     23\u001b[0m     \u001b[38;5;28mprint\u001b[39m(query\u001b[38;5;241m.\u001b[39mlastProgress)  \u001b[38;5;66;03m# Shows the latest progress info\u001b[39;00m\n\u001b[0;32m---> 24\u001b[0m     \u001b[43mtime\u001b[49m\u001b[38;5;241;43m.\u001b[39;49m\u001b[43msleep\u001b[49m\u001b[43m(\u001b[49m\u001b[38;5;241;43m5\u001b[39;49m\u001b[43m)\u001b[49m  \u001b[38;5;66;03m# Updates every 5 seconds\u001b[39;00m\n",
      "\u001b[0;31mKeyboardInterrupt\u001b[0m: "
     ]
    }
   ],
   "source": [
    "# Stream the changes using CDF\n",
    "streaming_df = spark.readStream \\\n",
    "    .format(\"delta\") \\\n",
    "    .option(\"readChangeFeed\", \"true\") \\\n",
    "    .option(\"startingVersion\", \"latest\") \\\n",
    "    .load(\"s3a://lakehouse/delta/processed_iot_data\")\n",
    "\n",
    "# Filter to keep only 'timestamp' and 'temperature' columns\n",
    "filtered_streaming_df = streaming_df.select(\"timestamp\", \"temperature\") \\\n",
    "    .withColumnRenamed(\"timestamp\", \"event_time\") \\\n",
    "    .withColumnRenamed(\"temperature\", \"sensor_temp\")\n",
    "\n",
    "# Process and display the streaming changes\n",
    "query = filtered_streaming_df.writeStream \\\n",
    "    .format(\"console\") \\\n",
    "    .option(\"checkpointLocation\", \"s3a://lakehouse/delta/checkpoints/test\") \\\n",
    "    .start()\n",
    "\n",
    "# Monitor the query progress\n",
    "import time\n",
    "\n",
    "while query.isActive:\n",
    "    print(query.lastProgress)  # Shows the latest progress info\n",
    "    time.sleep(5)  # Updates every 5 seconds"
   ]
  }
 ],
 "metadata": {
  "kernelspec": {
   "display_name": ".venv",
   "language": "python",
   "name": "python3"
  },
  "language_info": {
   "codemirror_mode": {
    "name": "ipython",
    "version": 3
   },
   "file_extension": ".py",
   "mimetype": "text/x-python",
   "name": "python",
   "nbconvert_exporter": "python",
   "pygments_lexer": "ipython3",
   "version": "3.13.1"
  }
 },
 "nbformat": 4,
 "nbformat_minor": 2
}
