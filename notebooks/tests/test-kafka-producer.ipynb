{
 "cells": [
  {
   "cell_type": "markdown",
   "metadata": {},
   "source": [
    "# Producer"
   ]
  },
  {
   "cell_type": "code",
   "execution_count": null,
   "metadata": {},
   "outputs": [
    {
     "name": "stdout",
     "output_type": "stream",
     "text": [
      "Enviando dados para o Kafka... Pressione Ctrl+C para parar.\n",
      "Message sent: {\"timestamp\": \"2025-01-24T19:12:39.405321+00:00\", \"temperature\": 20.05}\n",
      "Message sent: {\"timestamp\": \"2025-01-24T19:12:40.405541+00:00\", \"temperature\": 20.61}\n",
      "Message sent: {\"timestamp\": \"2025-01-24T19:12:41.405891+00:00\", \"temperature\": 29.47}\n",
      "Message sent: {\"timestamp\": \"2025-01-24T19:12:42.406186+00:00\", \"temperature\": 24.68}\n",
      "Mensagem entregue para iot-temperature [11]\n",
      "Mensagem entregue para iot-temperature [7]\n",
      "Mensagem entregue para iot-temperature [12]\n",
      "Message sent: {\"timestamp\": \"2025-01-24T19:12:43.406717+00:00\", \"temperature\": 21.06}\n",
      "Mensagem entregue para iot-temperature [0]\n",
      "Message sent: {\"timestamp\": \"2025-01-24T19:12:44.407098+00:00\", \"temperature\": 24.37}\n",
      "Mensagem entregue para iot-temperature [4]\n",
      "Message sent: {\"timestamp\": \"2025-01-24T19:12:45.407485+00:00\", \"temperature\": 23.39}\n",
      "Mensagem entregue para iot-temperature [10]\n",
      "Message sent: {\"timestamp\": \"2025-01-24T19:12:46.408114+00:00\", \"temperature\": 27.49}\n",
      "Mensagem entregue para iot-temperature [2]\n",
      "Message sent: {\"timestamp\": \"2025-01-24T19:12:47.408720+00:00\", \"temperature\": 28.4}\n",
      "Mensagem entregue para iot-temperature [7]\n",
      "Message sent: {\"timestamp\": \"2025-01-24T19:12:48.409318+00:00\", \"temperature\": 22.01}\n",
      "Mensagem entregue para iot-temperature [12]\n",
      "Message sent: {\"timestamp\": \"2025-01-24T19:12:49.409669+00:00\", \"temperature\": 25.88}\n",
      "Mensagem entregue para iot-temperature [4]\n",
      "Message sent: {\"timestamp\": \"2025-01-24T19:12:50.410033+00:00\", \"temperature\": 26.86}\n",
      "Mensagem entregue para iot-temperature [12]\n",
      "Message sent: {\"timestamp\": \"2025-01-24T19:12:51.410659+00:00\", \"temperature\": 20.63}\n",
      "Mensagem entregue para iot-temperature [14]\n",
      "Message sent: {\"timestamp\": \"2025-01-24T19:12:52.411038+00:00\", \"temperature\": 26.87}\n",
      "Mensagem entregue para iot-temperature [1]\n",
      "Message sent: {\"timestamp\": \"2025-01-24T19:12:53.411469+00:00\", \"temperature\": 23.2}\n",
      "Mensagem entregue para iot-temperature [2]\n"
     ]
    }
   ],
   "source": [
    "import random\n",
    "import time\n",
    "from datetime import datetime, timezone\n",
    "\n",
    "from confluent_kafka import Producer\n",
    "from dotenv import load_dotenv\n",
    "\n",
    "# Load environment variables from .env file\n",
    "load_dotenv(\"../.env\")\n",
    "\n",
    "# Configuração do Kafka\n",
    "kafka_broker = \"kafka-cpc.certi.org.br:31289\"  # Use o serviço bootstrap do Kafka\n",
    "topic_name = \"iot-temperature\"\n",
    "\n",
    "# Configuração do produtor\n",
    "producer_config = {\n",
    "    'bootstrap.servers': kafka_broker,\n",
    "    'client.id': 'iot-producer'\n",
    "}\n",
    "producer = Producer(producer_config)\n",
    "\n",
    "def delivery_report(err, msg):\n",
    "    \"\"\"Callback de confirmação de entrega.\"\"\"\n",
    "    if err is not None:\n",
    "        print(f\"Erro na entrega: {err}\")\n",
    "    else:\n",
    "        print(f\"Mensagem entregue para {msg.topic()} [{msg.partition()}]\")\n",
    "\n",
    "print(\"Enviando dados para o Kafka... Pressione Ctrl+C para parar.\")\n",
    "\n",
    "try:\n",
    "    while True:\n",
    "        # Simula dados do sensor\n",
    "        temperature = round(random.uniform(20.0, 30.0), 2)\n",
    "        timestamp = datetime.now(timezone.utc).isoformat()\n",
    "        message = f'{{\"timestamp\": \"{timestamp}\", \"temperature\": {temperature}}}'\n",
    "\n",
    "        print(f\"Message sent: {message}\")\n",
    "        # Envia para o Kafka\n",
    "        producer.produce(topic_name, key=str(time.time()), value=message, callback=delivery_report)\n",
    "        producer.poll(0)\n",
    "\n",
    "        # Aguarda 1 segundo antes de enviar o próximo dado\n",
    "        time.sleep(1)\n",
    "except KeyboardInterrupt:\n",
    "    print(\"Parando o produtor...\")\n",
    "finally:\n",
    "    producer.flush()\n"
   ]
  }
 ],
 "metadata": {
  "kernelspec": {
   "display_name": ".venv",
   "language": "python",
   "name": "python3"
  },
  "language_info": {
   "codemirror_mode": {
    "name": "ipython",
    "version": 3
   },
   "file_extension": ".py",
   "mimetype": "text/x-python",
   "name": "python",
   "nbconvert_exporter": "python",
   "pygments_lexer": "ipython3",
   "version": "3.13.1"
  }
 },
 "nbformat": 4,
 "nbformat_minor": 2
}
