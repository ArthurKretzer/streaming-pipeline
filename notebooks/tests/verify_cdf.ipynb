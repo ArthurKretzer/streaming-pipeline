{
 "cells": [
  {
   "cell_type": "code",
   "execution_count": null,
   "metadata": {},
   "outputs": [
    {
     "name": "stderr",
     "output_type": "stream",
     "text": [
      "your 131072x1 screen size is bogus. expect trouble\n",
      "Warning: Ignoring non-Spark config property: delta.autoOptimize.optimizeWrite\n",
      "Warning: Ignoring non-Spark config property: delta.autoOptimize.autoCompact\n",
      "25/01/26 11:01:16 WARN Utils: Your hostname, CPC-12806 resolves to a loopback address: 127.0.1.1; using 172.26.242.248 instead (on interface eth0)\n",
      "25/01/26 11:01:16 WARN Utils: Set SPARK_LOCAL_IP if you need to bind to another address\n"
     ]
    },
    {
     "name": "stdout",
     "output_type": "stream",
     "text": [
      ":: loading settings :: url = jar:file:/home/arthur/streaming-pipeline/.venv/lib/python3.13/site-packages/pyspark/jars/ivy-2.5.1.jar!/org/apache/ivy/core/settings/ivysettings.xml\n"
     ]
    },
    {
     "name": "stderr",
     "output_type": "stream",
     "text": [
      "Ivy Default Cache set to: /home/arthur/.ivy2/cache\n",
      "The jars for the packages stored in: /home/arthur/.ivy2/jars\n",
      "org.apache.hadoop#hadoop-aws added as a dependency\n",
      "io.delta#delta-spark_2.12 added as a dependency\n",
      ":: resolving dependencies :: org.apache.spark#spark-submit-parent-93c9fbe6-99bc-4597-90c6-358e09668ff1;1.0\n",
      "\tconfs: [default]\n",
      "\tfound org.apache.hadoop#hadoop-aws;3.3.4 in central\n",
      "\tfound com.amazonaws#aws-java-sdk-bundle;1.12.262 in central\n",
      "\tfound org.wildfly.openssl#wildfly-openssl;1.0.7.Final in central\n",
      "\tfound io.delta#delta-spark_2.12;3.3.0 in central\n",
      "\tfound io.delta#delta-storage;3.3.0 in central\n",
      "\tfound org.antlr#antlr4-runtime;4.9.3 in central\n",
      ":: resolution report :: resolve 297ms :: artifacts dl 11ms\n",
      "\t:: modules in use:\n",
      "\tcom.amazonaws#aws-java-sdk-bundle;1.12.262 from central in [default]\n",
      "\tio.delta#delta-spark_2.12;3.3.0 from central in [default]\n",
      "\tio.delta#delta-storage;3.3.0 from central in [default]\n",
      "\torg.antlr#antlr4-runtime;4.9.3 from central in [default]\n",
      "\torg.apache.hadoop#hadoop-aws;3.3.4 from central in [default]\n",
      "\torg.wildfly.openssl#wildfly-openssl;1.0.7.Final from central in [default]\n",
      "\t---------------------------------------------------------------------\n",
      "\t|                  |            modules            ||   artifacts   |\n",
      "\t|       conf       | number| search|dwnlded|evicted|| number|dwnlded|\n",
      "\t---------------------------------------------------------------------\n",
      "\t|      default     |   6   |   0   |   0   |   0   ||   6   |   0   |\n",
      "\t---------------------------------------------------------------------\n",
      ":: retrieving :: org.apache.spark#spark-submit-parent-93c9fbe6-99bc-4597-90c6-358e09668ff1\n",
      "\tconfs: [default]\n",
      "\t0 artifacts copied, 6 already retrieved (0kB/5ms)\n",
      "25/01/26 11:01:17 WARN NativeCodeLoader: Unable to load native-hadoop library for your platform... using builtin-java classes where applicable\n",
      "Setting default log level to \"WARN\".\n",
      "To adjust logging level use sc.setLogLevel(newLevel). For SparkR, use setLogLevel(newLevel).\n"
     ]
    },
    {
     "name": "stdout",
     "output_type": "stream",
     "text": [
      "Spark session configured with Delta Lake and MinIO!\n"
     ]
    }
   ],
   "source": [
    "import os\n",
    "from pyspark.sql import SparkSession\n",
    "\n",
    "from dotenv import load_dotenv\n",
    "\n",
    "# Load environment variables from .env file\n",
    "load_dotenv(\"../.env\")\n",
    "\n",
    "os.environ[\"PYSPARK_SUBMIT_ARGS\"] = \"--packages org.apache.hadoop:hadoop-aws:3.3.4,io.delta:delta-spark_2.12:3.3.0 pyspark-shell\"\n",
    "\n",
    "# Initialize Spark session with Delta Lake and MinIO support\n",
    "spark = SparkSession.builder \\\n",
    "    .appName(\"DeltaLakeWithMinIO\") \\\n",
    "    .config(\"spark.sql.extensions\", \"io.delta.sql.DeltaSparkSessionExtension\") \\\n",
    "    .config(\"spark.sql.catalog.spark_catalog\", \"org.apache.spark.sql.delta.catalog.DeltaCatalog\") \\\n",
    "    .config(\"delta.autoOptimize.optimizeWrite\", \"true\") \\\n",
    "    .config(\"delta.autoOptimize.autoCompact\", \"true\") \\\n",
    "    .config(\"spark.delta.logStore.class\", \"org.apache.spark.sql.delta.storage.S3SingleDriverLogStore\") \\\n",
    "    .config(\"spark.hadoop.fs.s3a.endpoint\", os.getenv(\"MINIO_ENDPOINT\")) \\\n",
    "    .config(\"spark.hadoop.fs.s3a.access.key\", os.getenv(\"MINIO_ACCESS_KEY\")) \\\n",
    "    .config(\"spark.hadoop.fs.s3a.secret.key\", os.getenv(\"MINIO_SECRET_KEY\")) \\\n",
    "    .config('spark.hadoop.fs.s3a.attempts.maximum', \"3\") \\\n",
    "    .config('spark.hadoop.fs.s3a.connection.timeout', \"10000\") \\\n",
    "    .config('spark.hadoop.fs.s3a.connection.establish.timeout', \"5000\") \\\n",
    "    .config(\"spark.hadoop.fs.s3a.path.style.access\", \"true\") \\\n",
    "    .config(\"spark.hadoop.fs.s3a.impl\", \"org.apache.hadoop.fs.s3a.S3AFileSystem\") \\\n",
    "    .config(\"spark.hadoop.fs.s3.impl\", \"org.apache.hadoop.fs.s3a.S3AFileSystem\") \\\n",
    "    .config(\"spark.hadoop.fs.s3n.impl\", \"org.apache.hadoop.fs.s3a.S3AFileSystem\") \\\n",
    "    .getOrCreate()\n",
    "\n",
    "print(\"Spark session configured with Delta Lake and MinIO!\")"
   ]
  },
  {
   "cell_type": "code",
   "execution_count": 2,
   "metadata": {},
   "outputs": [
    {
     "name": "stderr",
     "output_type": "stream",
     "text": [
      "25/01/26 11:01:22 WARN MetricsConfig: Cannot locate configuration: tried hadoop-metrics2-s3a-file-system.properties,hadoop-metrics2.properties\n",
      "25/01/26 11:01:32 WARN SparkStringUtils: Truncated the string representation of a plan since it was too large. This behavior can be adjusted by setting 'spark.sql.debug.maxToStringFields'.\n",
      "[Stage 2:=====================================================>   (47 + 3) / 50]\r"
     ]
    },
    {
     "name": "stdout",
     "output_type": "stream",
     "text": [
      "+--------+\n",
      "|count(1)|\n",
      "+--------+\n",
      "|    2501|\n",
      "+--------+\n",
      "\n"
     ]
    },
    {
     "name": "stderr",
     "output_type": "stream",
     "text": [
      "                                                                                \r"
     ]
    }
   ],
   "source": [
    "spark.sql(\"SELECT COUNT(*) FROM delta.`s3a://lakehouse/delta/raw_control_power`;\").show(5)"
   ]
  },
  {
   "cell_type": "code",
   "execution_count": 3,
   "metadata": {},
   "outputs": [
    {
     "name": "stderr",
     "output_type": "stream",
     "text": [
      "[Stage 13:>                                                         (0 + 1) / 1]\r"
     ]
    },
    {
     "name": "stdout",
     "output_type": "stream",
     "text": [
      "+--------------------+-------------+---------+------+--------------------+-------------+--------------------+---------------+--------------+--------+---------+-----------+----------+------------+--------------+----------+--------------------+\n",
      "|                 key|        topic|partition|offset|           timestamp|timestampType|   landing_timestamp|robot_action_id|apparent_power| current|frequency|phase_angle|     power|power_factor|reactive_power|   voltage|    source_timestamp|\n",
      "+--------------------+-------------+---------+------+--------------------+-------------+--------------------+---------------+--------------+--------+---------+-----------+----------+------------+--------------+----------+--------------------+\n",
      "|2025-01-25T20:53:...|control_power|       12|   176|2025-01-25 17:53:...|            0|2025-01-25 17:53:...|            4.0|    276.401062|1.409595|49.951218| 335.569427| 251.65654|    0.910476|   -114.298454|227.862411|2025-01-25 17:53:...|\n",
      "|2025-01-25T20:53:...|control_power|       12|   177|2025-01-25 17:53:...|            0|2025-01-25 17:53:...|            3.0|    189.726395|1.144882|49.951218| 327.452789|159.933823|    0.842971|   -102.055733|228.238663|2025-01-25 17:53:...|\n",
      "|2025-01-25T20:53:...|control_power|       12|   178|2025-01-25 17:53:...|            0|2025-01-25 17:53:...|            3.0|    189.726395|1.144882|     50.0| 327.452789|159.933823|    0.842971|   -102.055733|228.238663|2025-01-25 17:53:...|\n",
      "|2025-01-25T20:53:...|control_power|       12|   179|2025-01-25 17:53:...|            0|2025-01-25 17:53:...|            3.0|     192.54541|0.998969|49.951218| 328.307373|163.836884|      0.8509|   -101.140213|228.383789|2025-01-25 17:53:...|\n",
      "|2025-01-25T20:53:...|control_power|       12|   180|2025-01-25 17:53:...|            0|2025-01-25 17:53:...|            3.0|     192.54541|0.998969|49.951218| 328.307373|163.836884|      0.8509|   -101.140213|228.383789|2025-01-25 17:53:...|\n",
      "+--------------------+-------------+---------+------+--------------------+-------------+--------------------+---------------+--------------+--------+---------+-----------+----------+------------+--------------+----------+--------------------+\n",
      "only showing top 5 rows\n",
      "\n"
     ]
    },
    {
     "name": "stderr",
     "output_type": "stream",
     "text": [
      "                                                                                \r"
     ]
    }
   ],
   "source": [
    "spark.sql(\"SELECT * FROM delta.`s3a://lakehouse/delta/raw_control_power`;\").show(5)"
   ]
  },
  {
   "cell_type": "code",
   "execution_count": 4,
   "metadata": {},
   "outputs": [
    {
     "data": {
      "text/plain": [
       "DataFrame[key: string, topic: string, partition: int, offset: bigint, timestamp: timestamp, timestampType: int, landing_timestamp: timestamp, robot_action_id: string, apparent_power: double, current: double, frequency: double, phase_angle: double, power: double, power_factor: double, reactive_power: double, voltage: double, source_timestamp: timestamp]"
      ]
     },
     "execution_count": 4,
     "metadata": {},
     "output_type": "execute_result"
    }
   ],
   "source": [
    "spark.sql(\"SELECT * FROM delta.`s3a://lakehouse/delta/raw_control_power`;\")"
   ]
  },
  {
   "cell_type": "code",
   "execution_count": 5,
   "metadata": {},
   "outputs": [],
   "source": [
    "# Calculate deltas and create a new temporary view\n",
    "spark.sql(\"\"\"\n",
    "    SELECT \n",
    "        *,\n",
    "        UNIX_TIMESTAMP(timestamp) - UNIX_TIMESTAMP(source_timestamp) AS delta_source_to_kafka,\n",
    "        UNIX_TIMESTAMP(landing_timestamp) - UNIX_TIMESTAMP(timestamp) AS delta_kafka_to_landing\n",
    "    FROM delta.`s3a://lakehouse/delta/raw_control_power`;\n",
    "\"\"\").createOrReplaceTempView(\"kafka_deltas\")"
   ]
  },
  {
   "cell_type": "code",
   "execution_count": 6,
   "metadata": {},
   "outputs": [
    {
     "name": "stdout",
     "output_type": "stream",
     "text": [
      "+--------------------+-------------+---------+------+--------------------+-------------+--------------------+---------------+--------------+--------+---------+-----------+----------+------------+--------------+----------+--------------------+---------------------+----------------------+\n",
      "|                 key|        topic|partition|offset|           timestamp|timestampType|   landing_timestamp|robot_action_id|apparent_power| current|frequency|phase_angle|     power|power_factor|reactive_power|   voltage|    source_timestamp|delta_source_to_kafka|delta_kafka_to_landing|\n",
      "+--------------------+-------------+---------+------+--------------------+-------------+--------------------+---------------+--------------+--------+---------+-----------+----------+------------+--------------+----------+--------------------+---------------------+----------------------+\n",
      "|2025-01-25T20:53:...|control_power|       12|   176|2025-01-25 17:53:...|            0|2025-01-25 17:53:...|            4.0|    276.401062|1.409595|49.951218| 335.569427| 251.65654|    0.910476|   -114.298454|227.862411|2025-01-25 17:53:...|                    0|                     8|\n",
      "|2025-01-25T20:53:...|control_power|       12|   177|2025-01-25 17:53:...|            0|2025-01-25 17:53:...|            3.0|    189.726395|1.144882|49.951218| 327.452789|159.933823|    0.842971|   -102.055733|228.238663|2025-01-25 17:53:...|                    0|                     7|\n",
      "|2025-01-25T20:53:...|control_power|       12|   178|2025-01-25 17:53:...|            0|2025-01-25 17:53:...|            3.0|    189.726395|1.144882|     50.0| 327.452789|159.933823|    0.842971|   -102.055733|228.238663|2025-01-25 17:53:...|                    0|                     6|\n",
      "|2025-01-25T20:53:...|control_power|       12|   179|2025-01-25 17:53:...|            0|2025-01-25 17:53:...|            3.0|     192.54541|0.998969|49.951218| 328.307373|163.836884|      0.8509|   -101.140213|228.383789|2025-01-25 17:53:...|                    0|                     2|\n",
      "|2025-01-25T20:53:...|control_power|       12|   180|2025-01-25 17:53:...|            0|2025-01-25 17:53:...|            3.0|     192.54541|0.998969|49.951218| 328.307373|163.836884|      0.8509|   -101.140213|228.383789|2025-01-25 17:53:...|                    0|                     2|\n",
      "+--------------------+-------------+---------+------+--------------------+-------------+--------------------+---------------+--------------+--------+---------+-----------+----------+------------+--------------+----------+--------------------+---------------------+----------------------+\n",
      "only showing top 5 rows\n",
      "\n"
     ]
    }
   ],
   "source": [
    "spark.sql(\"SELECT * FROM kafka_deltas;\").show(5)"
   ]
  },
  {
   "cell_type": "code",
   "execution_count": 25,
   "metadata": {},
   "outputs": [
    {
     "name": "stderr",
     "output_type": "stream",
     "text": [
      "                                                                                \r"
     ]
    }
   ],
   "source": [
    "pandas_kafka_deltas = spark.sql(\"SELECT * FROM kafka_deltas;\").toPandas()"
   ]
  },
  {
   "cell_type": "code",
   "execution_count": 33,
   "metadata": {},
   "outputs": [
    {
     "data": {
      "text/html": [
       "<div>\n",
       "<style scoped>\n",
       "    .dataframe tbody tr th:only-of-type {\n",
       "        vertical-align: middle;\n",
       "    }\n",
       "\n",
       "    .dataframe tbody tr th {\n",
       "        vertical-align: top;\n",
       "    }\n",
       "\n",
       "    .dataframe thead th {\n",
       "        text-align: right;\n",
       "    }\n",
       "</style>\n",
       "<table border=\"1\" class=\"dataframe\">\n",
       "  <thead>\n",
       "    <tr style=\"text-align: right;\">\n",
       "      <th></th>\n",
       "      <th>key</th>\n",
       "      <th>topic</th>\n",
       "      <th>partition</th>\n",
       "      <th>offset</th>\n",
       "      <th>timestamp</th>\n",
       "      <th>timestampType</th>\n",
       "      <th>landing_timestamp</th>\n",
       "      <th>robot_action_id</th>\n",
       "      <th>apparent_power</th>\n",
       "      <th>current</th>\n",
       "      <th>frequency</th>\n",
       "      <th>phase_angle</th>\n",
       "      <th>power</th>\n",
       "      <th>power_factor</th>\n",
       "      <th>reactive_power</th>\n",
       "      <th>voltage</th>\n",
       "      <th>source_timestamp</th>\n",
       "      <th>delta_source_to_kafka</th>\n",
       "      <th>delta_kafka_to_landing</th>\n",
       "    </tr>\n",
       "  </thead>\n",
       "  <tbody>\n",
       "  </tbody>\n",
       "</table>\n",
       "</div>"
      ],
      "text/plain": [
       "Empty DataFrame\n",
       "Columns: [key, topic, partition, offset, timestamp, timestampType, landing_timestamp, robot_action_id, apparent_power, current, frequency, phase_angle, power, power_factor, reactive_power, voltage, source_timestamp, delta_source_to_kafka, delta_kafka_to_landing]\n",
       "Index: []"
      ]
     },
     "execution_count": 33,
     "metadata": {},
     "output_type": "execute_result"
    }
   ],
   "source": [
    "pandas_kafka_deltas[pandas_kafka_deltas[\"timestamp\"] == pandas_kafka_deltas[\"source_timestamp\"]]"
   ]
  },
  {
   "cell_type": "code",
   "execution_count": 38,
   "metadata": {},
   "outputs": [],
   "source": [
    "delta = pandas_kafka_deltas[\"timestamp\"] - pandas_kafka_deltas[\"source_timestamp\"]"
   ]
  },
  {
   "cell_type": "markdown",
   "metadata": {},
   "source": [
    "Possivelmente aqui aparece um atraso entre relógios da minha máquina vs o servidor do kafka\n",
    "\n",
    "Precision:\n",
    "\n",
    "* Kafka timestamp is stored as milliseconds since the epoch (Unix time in milliseconds).\n",
    "* It supports millisecond precision (yyyy-MM-dd HH:mm:ss.SSS).\n",
    "* Kafka relies on the system clock of the producer (or the broker in the case of LogAppendTime)."
   ]
  },
  {
   "cell_type": "code",
   "execution_count": 39,
   "metadata": {},
   "outputs": [
    {
     "data": {
      "text/plain": [
       "count                         2501\n",
       "mean     0 days 00:00:00.000774009\n",
       "std      0 days 00:00:00.000767378\n",
       "min       -1 days +23:59:59.999777\n",
       "25%         0 days 00:00:00.000310\n",
       "50%         0 days 00:00:00.000632\n",
       "75%         0 days 00:00:00.000990\n",
       "max         0 days 00:00:00.012752\n",
       "dtype: object"
      ]
     },
     "execution_count": 39,
     "metadata": {},
     "output_type": "execute_result"
    }
   ],
   "source": [
    "delta.describe()"
   ]
  },
  {
   "cell_type": "markdown",
   "metadata": {},
   "source": [
    "Types of Timestamps:\n",
    "\n",
    "* CreateTime (timestampType=0): Provided by the producer, reflecting when the record was created.\n",
    "* LogAppendTime (timestampType=1): Added by the Kafka broker when the message is appended to a partition log."
   ]
  },
  {
   "cell_type": "code",
   "execution_count": 43,
   "metadata": {},
   "outputs": [
    {
     "data": {
      "text/plain": [
       "array([0], dtype=int32)"
      ]
     },
     "execution_count": 43,
     "metadata": {},
     "output_type": "execute_result"
    }
   ],
   "source": [
    "pandas_kafka_deltas[\"timestampType\"].unique()"
   ]
  },
  {
   "cell_type": "markdown",
   "metadata": {},
   "source": [
    "Timestamp is being provided by the producer.\n",
    "\n",
    "---\n",
    "\n",
    "**Comparing Kafka vs Python Timestamp Precision**\n",
    "\n",
    "| **Aspect**           | **Kafka `timestamp`**           | **Python `datetime.now(timezone.utc).isoformat()`** |\n",
    "|-----------------------|----------------------------------|----------------------------------------------------|\n",
    "| **Precision**         | Milliseconds (`.SSS`)          | Microseconds (`.SSSSSS`)                          |\n",
    "| **Format**            | `yyyy-MM-dd HH:mm:ss.SSS`      | `yyyy-MM-ddTHH:mm:ss.SSSSSS+00:00`                |\n",
    "| **Timezone**          | UTC                            | UTC                                               |\n",
    "| **Clock Dependency**  | Producer/broker system clock   | Host OS clock                                     |\n"
   ]
  },
  {
   "cell_type": "markdown",
   "metadata": {},
   "source": [
    "O spark calculou o valor diferente, como converteu para UNIX parece a diferença em 1 segundo, porque?\n",
    "\n",
    "* Spark's unix_timestamp() converts timestamps into seconds since the epoch, resulting in a loss of sub-second precision.\n",
    "* Pandas Timestamp retains full precision down to nanoseconds."
   ]
  },
  {
   "cell_type": "code",
   "execution_count": 41,
   "metadata": {},
   "outputs": [
    {
     "data": {
      "text/plain": [
       "count    2501.000000\n",
       "mean        0.000400\n",
       "std         0.019996\n",
       "min         0.000000\n",
       "25%         0.000000\n",
       "50%         0.000000\n",
       "75%         0.000000\n",
       "max         1.000000\n",
       "Name: delta_source_to_kafka, dtype: float64"
      ]
     },
     "execution_count": 41,
     "metadata": {},
     "output_type": "execute_result"
    }
   ],
   "source": [
    "pandas_kafka_deltas[\"delta_source_to_kafka\"].describe()"
   ]
  },
  {
   "cell_type": "code",
   "execution_count": 17,
   "metadata": {},
   "outputs": [
    {
     "name": "stdout",
     "output_type": "stream",
     "text": [
      "delta_source_to_kafka: Lower Bound = 0.0, Upper Bound = 0.7499999999995453\n",
      "delta_kafka_to_landing: Lower Bound = 0.0, Upper Bound = 35.49999999999909\n"
     ]
    }
   ],
   "source": [
    "# Calculate bounds for 0.01% and 99.99% percentiles\n",
    "bounds = {}\n",
    "for delta_type in [\"delta_source_to_kafka\", \"delta_kafka_to_landing\"]:\n",
    "    lower_bound = pandas_kafka_deltas[delta_type].quantile(0.0001)\n",
    "    upper_bound = pandas_kafka_deltas[delta_type].quantile(0.9999)\n",
    "    bounds[delta_type] = (lower_bound, upper_bound)\n",
    "    print(f\"{delta_type}: Lower Bound = {lower_bound}, Upper Bound = {upper_bound}\")\n",
    "\n",
    "# Filter the data\n",
    "filtered_df = pandas_kafka_deltas[\n",
    "    (pandas_kafka_deltas[\"delta_source_to_kafka\"] >= bounds[\"delta_source_to_kafka\"][0]) &\n",
    "    (pandas_kafka_deltas[\"delta_source_to_kafka\"] <= bounds[\"delta_source_to_kafka\"][1]) &\n",
    "    (pandas_kafka_deltas[\"delta_kafka_to_landing\"] >= bounds[\"delta_kafka_to_landing\"][0]) &\n",
    "    (pandas_kafka_deltas[\"delta_kafka_to_landing\"] <= bounds[\"delta_kafka_to_landing\"][1])\n",
    "]"
   ]
  },
  {
   "cell_type": "code",
   "execution_count": 22,
   "metadata": {},
   "outputs": [
    {
     "data": {
      "text/html": [
       "<div>\n",
       "<style scoped>\n",
       "    .dataframe tbody tr th:only-of-type {\n",
       "        vertical-align: middle;\n",
       "    }\n",
       "\n",
       "    .dataframe tbody tr th {\n",
       "        vertical-align: top;\n",
       "    }\n",
       "\n",
       "    .dataframe thead th {\n",
       "        text-align: right;\n",
       "    }\n",
       "</style>\n",
       "<table border=\"1\" class=\"dataframe\">\n",
       "  <thead>\n",
       "    <tr style=\"text-align: right;\">\n",
       "      <th></th>\n",
       "      <th>delta_source_to_kafka</th>\n",
       "      <th>delta_kafka_to_landing</th>\n",
       "    </tr>\n",
       "  </thead>\n",
       "  <tbody>\n",
       "    <tr>\n",
       "      <th>count</th>\n",
       "      <td>2499.0</td>\n",
       "      <td>2499.000000</td>\n",
       "    </tr>\n",
       "    <tr>\n",
       "      <th>mean</th>\n",
       "      <td>0.0</td>\n",
       "      <td>7.645858</td>\n",
       "    </tr>\n",
       "    <tr>\n",
       "      <th>std</th>\n",
       "      <td>0.0</td>\n",
       "      <td>6.352836</td>\n",
       "    </tr>\n",
       "    <tr>\n",
       "      <th>min</th>\n",
       "      <td>0.0</td>\n",
       "      <td>0.000000</td>\n",
       "    </tr>\n",
       "    <tr>\n",
       "      <th>25%</th>\n",
       "      <td>0.0</td>\n",
       "      <td>3.000000</td>\n",
       "    </tr>\n",
       "    <tr>\n",
       "      <th>50%</th>\n",
       "      <td>0.0</td>\n",
       "      <td>6.000000</td>\n",
       "    </tr>\n",
       "    <tr>\n",
       "      <th>75%</th>\n",
       "      <td>0.0</td>\n",
       "      <td>10.000000</td>\n",
       "    </tr>\n",
       "    <tr>\n",
       "      <th>max</th>\n",
       "      <td>0.0</td>\n",
       "      <td>34.000000</td>\n",
       "    </tr>\n",
       "  </tbody>\n",
       "</table>\n",
       "</div>"
      ],
      "text/plain": [
       "       delta_source_to_kafka  delta_kafka_to_landing\n",
       "count                 2499.0             2499.000000\n",
       "mean                     0.0                7.645858\n",
       "std                      0.0                6.352836\n",
       "min                      0.0                0.000000\n",
       "25%                      0.0                3.000000\n",
       "50%                      0.0                6.000000\n",
       "75%                      0.0               10.000000\n",
       "max                      0.0               34.000000"
      ]
     },
     "execution_count": 22,
     "metadata": {},
     "output_type": "execute_result"
    }
   ],
   "source": [
    "filtered_df[[\"delta_source_to_kafka\", \"delta_kafka_to_landing\"]].describe()"
   ]
  },
  {
   "cell_type": "code",
   "execution_count": 18,
   "metadata": {},
   "outputs": [],
   "source": [
    "import pandas as pd\n",
    "\n",
    "# Melt the DataFrame for FacetGrid\n",
    "melted_df = pd.melt(\n",
    "    filtered_df,\n",
    "    value_vars=[\"delta_source_to_kafka\", \"delta_kafka_to_landing\"],\n",
    "    var_name=\"delta_type\",  # Label for the type of delta\n",
    "    value_name=\"time_delta\"  # The time delta values\n",
    ")\n"
   ]
  },
  {
   "cell_type": "code",
   "execution_count": null,
   "metadata": {},
   "outputs": [
    {
     "data": {
      "image/png": "[encoded data removed]",
      "text/plain": [
       "<Figure size 1200x600 with 2 Axes>"
      ]
     },
     "metadata": {},
     "output_type": "display_data"
    }
   ],
   "source": [
    "import seaborn as sns\n",
    "import matplotlib.pyplot as plt\n",
    "\n",
    "# Separate data for each delta type\n",
    "source_to_kafka = melted_df[melted_df[\"delta_type\"] == \"delta_source_to_kafka\"]\n",
    "kafka_to_landing = melted_df[melted_df[\"delta_type\"] == \"delta_kafka_to_landing\"]\n",
    "\n",
    "# Create subplots\n",
    "fig, axes = plt.subplots(1, 2, figsize=(12, 6), gridspec_kw={'width_ratios': [1, 1]})\n",
    "\n",
    "# Plot the first boxplot (delta_source_to_kafka)\n",
    "sns.boxplot(\n",
    "    ax=axes[0],\n",
    "    data=source_to_kafka,\n",
    "    x=\"delta_type\",\n",
    "    y=\"time_delta\"\n",
    ")\n",
    "axes[0].set_title(\"Delta: Source to Kafka\")\n",
    "axes[0].set_ylabel(\"Time Delta (seconds)\")\n",
    "axes[0].set_ylim(0, )\n",
    "\n",
    "# Plot the second boxplot (delta_kafka_to_landing)\n",
    "sns.boxplot(\n",
    "    ax=axes[1],\n",
    "    data=kafka_to_landing,\n",
    "    x=\"delta_type\",\n",
    "    y=\"time_delta\"\n",
    ")\n",
    "axes[1].set_title(\"Delta: Kafka to Landing\")\n",
    "axes[1].set_ylabel(\"Time Delta (seconds)\")\n",
    "\n",
    "# Adjust spacing\n",
    "plt.tight_layout()\n",
    "plt.show()\n"
   ]
  },
  {
   "cell_type": "code",
   "execution_count": 27,
   "metadata": {},
   "outputs": [],
   "source": [
    "# Calculate statistics using SQL\n",
    "stats_query = spark.sql(\"\"\"\n",
    "    SELECT\n",
    "        AVG(delta_source_to_kafka) AS avg_source_to_kafka,\n",
    "        STDDEV(delta_source_to_kafka) AS stddev_source_to_kafka,\n",
    "        MIN(delta_source_to_kafka) AS min_source_to_kafka,\n",
    "        MAX(delta_source_to_kafka) AS max_source_to_kafka,\n",
    "        PERCENTILE_APPROX(delta_source_to_kafka, 0.5) AS median_source_to_kafka,\n",
    "\n",
    "        AVG(delta_kafka_to_landing) AS avg_kafka_to_landing,\n",
    "        STDDEV(delta_kafka_to_landing) AS stddev_kafka_to_landing,\n",
    "        MIN(delta_kafka_to_landing) AS min_kafka_to_landing,\n",
    "        MAX(delta_kafka_to_landing) AS max_kafka_to_landing,\n",
    "        PERCENTILE_APPROX(delta_kafka_to_landing, 0.5) AS median_kafka_to_landing\n",
    "    FROM kafka_deltas;\n",
    "\"\"\")"
   ]
  },
  {
   "cell_type": "code",
   "execution_count": 28,
   "metadata": {},
   "outputs": [
    {
     "name": "stderr",
     "output_type": "stream",
     "text": [
      "[Stage 91:===================================================>    (12 + 1) / 13]\r"
     ]
    },
    {
     "name": "stdout",
     "output_type": "stream",
     "text": [
      "+--------------------+----------------------+-------------------+-------------------+----------------------+--------------------+-----------------------+--------------------+--------------------+-----------------------+\n",
      "| avg_source_to_kafka|stddev_source_to_kafka|min_source_to_kafka|max_source_to_kafka|median_source_to_kafka|avg_kafka_to_landing|stddev_kafka_to_landing|min_kafka_to_landing|max_kafka_to_landing|median_kafka_to_landing|\n",
      "+--------------------+----------------------+-------------------+-------------------+----------------------+--------------------+-----------------------+--------------------+--------------------+-----------------------+\n",
      "|3.998400639744102...|  0.019996001199600138|                  0|                  1|                     0|   7.655737704918033|      6.375973342602189|                   0|                  36|                      6|\n",
      "+--------------------+----------------------+-------------------+-------------------+----------------------+--------------------+-----------------------+--------------------+--------------------+-----------------------+\n",
      "\n"
     ]
    },
    {
     "name": "stderr",
     "output_type": "stream",
     "text": [
      "                                                                                \r"
     ]
    }
   ],
   "source": [
    "# Show the statistics\n",
    "stats_query.show()"
   ]
  },
  {
   "cell_type": "code",
   "execution_count": 20,
   "metadata": {},
   "outputs": [
    {
     "name": "stdout",
     "output_type": "stream",
     "text": [
      "+-----------------+---------+-------+\n",
      "|         col_name|data_type|comment|\n",
      "+-----------------+---------+-------+\n",
      "|              key|   string|   NULL|\n",
      "|            topic|   string|   NULL|\n",
      "|        partition|      int|   NULL|\n",
      "|           offset|   bigint|   NULL|\n",
      "|        timestamp|timestamp|   NULL|\n",
      "|    timestampType|      int|   NULL|\n",
      "|landing_timestamp|timestamp|   NULL|\n",
      "|  robot_action_id|   string|   NULL|\n",
      "|   apparent_power|   double|   NULL|\n",
      "|          current|   double|   NULL|\n",
      "|        frequency|   double|   NULL|\n",
      "|      phase_angle|   double|   NULL|\n",
      "|            power|   double|   NULL|\n",
      "|     power_factor|   double|   NULL|\n",
      "|   reactive_power|   double|   NULL|\n",
      "|          voltage|   double|   NULL|\n",
      "| source_timestamp|timestamp|   NULL|\n",
      "+-----------------+---------+-------+\n",
      "\n"
     ]
    }
   ],
   "source": [
    "spark.sql(\"DESCRIBE delta.`s3a://lakehouse/delta/raw_control_power`;\").show()"
   ]
  },
  {
   "cell_type": "code",
   "execution_count": 21,
   "metadata": {},
   "outputs": [
    {
     "name": "stdout",
     "output_type": "stream",
     "text": [
      "+------+------------------------------------+----+-----------+---------------------------------------+-----------------------+-------------------+----------------+-----------------+--------+-----------+----------+----------------+----------------+------------------------+\n",
      "|format|id                                  |name|description|location                               |createdAt              |lastModified       |partitionColumns|clusteringColumns|numFiles|sizeInBytes|properties|minReaderVersion|minWriterVersion|tableFeatures           |\n",
      "+------+------------------------------------+----+-----------+---------------------------------------+-----------------------+-------------------+----------------+-----------------+--------+-----------+----------+----------------+----------------+------------------------+\n",
      "|delta |6032d8f2-01c8-488b-ae06-4ab4151dc391|NULL|NULL       |s3a://lakehouse/delta/raw_control_power|2025-01-25 17:51:27.978|2025-01-25 17:50:16|[]              |[]               |15      |98569      |{}        |1               |2               |[appendOnly, invariants]|\n",
      "+------+------------------------------------+----+-----------+---------------------------------------+-----------------------+-------------------+----------------+-----------------+--------+-----------+----------+----------------+----------------+------------------------+\n",
      "\n"
     ]
    }
   ],
   "source": [
    "spark.sql(\"DESCRIBE DETAIL delta.`s3a://lakehouse/delta/raw_control_power`;\").show(truncate=False)"
   ]
  },
  {
   "cell_type": "code",
   "execution_count": 16,
   "metadata": {},
   "outputs": [
    {
     "name": "stdout",
     "output_type": "stream",
     "text": [
      "root\n",
      " |-- timestamp: string (nullable = true)\n",
      " |-- temperature: double (nullable = true)\n",
      " |-- _change_type: string (nullable = true)\n",
      " |-- _commit_version: long (nullable = true)\n",
      " |-- _commit_timestamp: timestamp (nullable = true)\n",
      "\n"
     ]
    }
   ],
   "source": [
    "df = spark.read.format(\"delta\").load(\"s3a://lakehouse/delta/processed_iot_data\")\n",
    "df.printSchema()"
   ]
  },
  {
   "cell_type": "code",
   "execution_count": 21,
   "metadata": {},
   "outputs": [
    {
     "name": "stderr",
     "output_type": "stream",
     "text": [
      "25/01/16 14:01:32 WARN ResolveWriteToStream: spark.sql.adaptive.enabled is not supported in streaming DataFrames/Datasets and will be disabled.\n"
     ]
    },
    {
     "name": "stdout",
     "output_type": "stream",
     "text": [
      "None\n",
      "{'id': 'bac56a91-3658-421d-8974-17c72e58191b', 'runId': 'e7a365e3-2592-4fee-a7a6-807934ad2aa2', 'name': None, 'timestamp': '2025-01-16T17:01:32.991Z', 'batchId': 0, 'numInputRows': 0, 'inputRowsPerSecond': 0.0, 'processedRowsPerSecond': 0.0, 'durationMs': {'latestOffset': 352, 'triggerExecution': 590}, 'stateOperators': [], 'sources': [{'description': 'DeltaSource[s3a://lakehouse/delta/processed_iot_data]', 'startOffset': None, 'endOffset': None, 'latestOffset': None, 'numInputRows': 0, 'inputRowsPerSecond': 0.0, 'processedRowsPerSecond': 0.0}], 'sink': {'description': 'org.apache.spark.sql.execution.streaming.ConsoleTable$@44ebbfa0', 'numOutputRows': -1}}\n",
      "{'id': 'bac56a91-3658-421d-8974-17c72e58191b', 'runId': 'e7a365e3-2592-4fee-a7a6-807934ad2aa2', 'name': None, 'timestamp': '2025-01-16T17:01:32.991Z', 'batchId': 0, 'numInputRows': 0, 'inputRowsPerSecond': 0.0, 'processedRowsPerSecond': 0.0, 'durationMs': {'latestOffset': 352, 'triggerExecution': 590}, 'stateOperators': [], 'sources': [{'description': 'DeltaSource[s3a://lakehouse/delta/processed_iot_data]', 'startOffset': None, 'endOffset': None, 'latestOffset': None, 'numInputRows': 0, 'inputRowsPerSecond': 0.0, 'processedRowsPerSecond': 0.0}], 'sink': {'description': 'org.apache.spark.sql.execution.streaming.ConsoleTable$@44ebbfa0', 'numOutputRows': -1}}\n",
      "{'id': 'bac56a91-3658-421d-8974-17c72e58191b', 'runId': 'e7a365e3-2592-4fee-a7a6-807934ad2aa2', 'name': None, 'timestamp': '2025-01-16T17:01:43.411Z', 'batchId': 0, 'numInputRows': 0, 'inputRowsPerSecond': 0.0, 'processedRowsPerSecond': 0.0, 'durationMs': {'latestOffset': 183, 'triggerExecution': 183}, 'stateOperators': [], 'sources': [{'description': 'DeltaSource[s3a://lakehouse/delta/processed_iot_data]', 'startOffset': None, 'endOffset': None, 'latestOffset': None, 'numInputRows': 0, 'inputRowsPerSecond': 0.0, 'processedRowsPerSecond': 0.0}], 'sink': {'description': 'org.apache.spark.sql.execution.streaming.ConsoleTable$@44ebbfa0', 'numOutputRows': -1}}\n",
      "{'id': 'bac56a91-3658-421d-8974-17c72e58191b', 'runId': 'e7a365e3-2592-4fee-a7a6-807934ad2aa2', 'name': None, 'timestamp': '2025-01-16T17:01:43.411Z', 'batchId': 0, 'numInputRows': 0, 'inputRowsPerSecond': 0.0, 'processedRowsPerSecond': 0.0, 'durationMs': {'latestOffset': 183, 'triggerExecution': 183}, 'stateOperators': [], 'sources': [{'description': 'DeltaSource[s3a://lakehouse/delta/processed_iot_data]', 'startOffset': None, 'endOffset': None, 'latestOffset': None, 'numInputRows': 0, 'inputRowsPerSecond': 0.0, 'processedRowsPerSecond': 0.0}], 'sink': {'description': 'org.apache.spark.sql.execution.streaming.ConsoleTable$@44ebbfa0', 'numOutputRows': -1}}\n",
      "{'id': 'bac56a91-3658-421d-8974-17c72e58191b', 'runId': 'e7a365e3-2592-4fee-a7a6-807934ad2aa2', 'name': None, 'timestamp': '2025-01-16T17:01:53.448Z', 'batchId': 0, 'numInputRows': 0, 'inputRowsPerSecond': 0.0, 'processedRowsPerSecond': 0.0, 'durationMs': {'latestOffset': 202, 'triggerExecution': 202}, 'stateOperators': [], 'sources': [{'description': 'DeltaSource[s3a://lakehouse/delta/processed_iot_data]', 'startOffset': None, 'endOffset': None, 'latestOffset': None, 'numInputRows': 0, 'inputRowsPerSecond': 0.0, 'processedRowsPerSecond': 0.0}], 'sink': {'description': 'org.apache.spark.sql.execution.streaming.ConsoleTable$@44ebbfa0', 'numOutputRows': -1}}\n",
      "{'id': 'bac56a91-3658-421d-8974-17c72e58191b', 'runId': 'e7a365e3-2592-4fee-a7a6-807934ad2aa2', 'name': None, 'timestamp': '2025-01-16T17:01:53.448Z', 'batchId': 0, 'numInputRows': 0, 'inputRowsPerSecond': 0.0, 'processedRowsPerSecond': 0.0, 'durationMs': {'latestOffset': 202, 'triggerExecution': 202}, 'stateOperators': [], 'sources': [{'description': 'DeltaSource[s3a://lakehouse/delta/processed_iot_data]', 'startOffset': None, 'endOffset': None, 'latestOffset': None, 'numInputRows': 0, 'inputRowsPerSecond': 0.0, 'processedRowsPerSecond': 0.0}], 'sink': {'description': 'org.apache.spark.sql.execution.streaming.ConsoleTable$@44ebbfa0', 'numOutputRows': -1}}\n"
     ]
    },
    {
     "ename": "KeyboardInterrupt",
     "evalue": "",
     "output_type": "error",
     "traceback": [
      "\u001b[0;31m---------------------------------------------------------------------------\u001b[0m",
      "\u001b[0;31mKeyboardInterrupt\u001b[0m                         Traceback (most recent call last)",
      "Cell \u001b[0;32mIn[21], line 24\u001b[0m\n\u001b[1;32m     22\u001b[0m \u001b[38;5;28;01mwhile\u001b[39;00m query\u001b[38;5;241m.\u001b[39misActive:\n\u001b[1;32m     23\u001b[0m     \u001b[38;5;28mprint\u001b[39m(query\u001b[38;5;241m.\u001b[39mlastProgress)  \u001b[38;5;66;03m# Shows the latest progress info\u001b[39;00m\n\u001b[0;32m---> 24\u001b[0m     \u001b[43mtime\u001b[49m\u001b[38;5;241;43m.\u001b[39;49m\u001b[43msleep\u001b[49m\u001b[43m(\u001b[49m\u001b[38;5;241;43m5\u001b[39;49m\u001b[43m)\u001b[49m  \u001b[38;5;66;03m# Updates every 5 seconds\u001b[39;00m\n",
      "\u001b[0;31mKeyboardInterrupt\u001b[0m: "
     ]
    }
   ],
   "source": [
    "# Stream the changes using CDF\n",
    "streaming_df = spark.readStream \\\n",
    "    .format(\"delta\") \\\n",
    "    .option(\"readChangeFeed\", \"true\") \\\n",
    "    .option(\"startingVersion\", \"latest\") \\\n",
    "    .load(\"s3a://lakehouse/delta/processed_iot_data\")\n",
    "\n",
    "# Filter to keep only 'timestamp' and 'temperature' columns\n",
    "filtered_streaming_df = streaming_df.select(\"timestamp\", \"temperature\") \\\n",
    "    .withColumnRenamed(\"timestamp\", \"event_time\") \\\n",
    "    .withColumnRenamed(\"temperature\", \"sensor_temp\")\n",
    "\n",
    "# Process and display the streaming changes\n",
    "query = filtered_streaming_df.writeStream \\\n",
    "    .format(\"console\") \\\n",
    "    .option(\"checkpointLocation\", \"s3a://lakehouse/delta/checkpoints/test\") \\\n",
    "    .start()\n",
    "\n",
    "# Monitor the query progress\n",
    "import time\n",
    "\n",
    "while query.isActive:\n",
    "    print(query.lastProgress)  # Shows the latest progress info\n",
    "    time.sleep(5)  # Updates every 5 seconds"
   ]
  }
 ],
 "metadata": {
  "kernelspec": {
   "display_name": ".venv",
   "language": "python",
   "name": "python3"
  },
  "language_info": {
   "codemirror_mode": {
    "name": "ipython",
    "version": 3
   },
   "file_extension": ".py",
   "mimetype": "text/x-python",
   "name": "python",
   "nbconvert_exporter": "python",
   "pygments_lexer": "ipython3",
   "version": "3.13.1"
  }
 },
 "nbformat": 4,
 "nbformat_minor": 2
}
