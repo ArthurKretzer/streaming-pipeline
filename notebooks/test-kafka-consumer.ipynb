{
 "cells": [
  {
   "cell_type": "markdown",
   "metadata": {},
   "source": [
    "# Consumer"
   ]
  },
  {
   "cell_type": "markdown",
   "metadata": {},
   "source": [
    "## Read data with kafka consumer"
   ]
  },
  {
   "cell_type": "code",
   "execution_count": 2,
   "metadata": {},
   "outputs": [
    {
     "name": "stdout",
     "output_type": "stream",
     "text": [
      "Monitorando mensagens do Kafka... Pressione Ctrl+C para parar.\n",
      "Parando o consumidor...\n"
     ]
    }
   ],
   "source": [
    "from confluent_kafka import Consumer\n",
    "\n",
    "from dotenv import load_dotenv\n",
    "\n",
    "# Load environment variables from .env file\n",
    "load_dotenv()\n",
    "\n",
    "# Configuração do consumidor\n",
    "kafka_broker = \"kafka-cpc.certi.org.br:31289\"\n",
    "topic_name = \"iot-temperature\"\n",
    "\n",
    "consumer_config = {\n",
    "    'bootstrap.servers': kafka_broker,\n",
    "    'group.id': 'my-iot-group',\n",
    "    'auto.offset.reset': 'earliest'\n",
    "}\n",
    "consumer = Consumer(consumer_config)\n",
    "\n",
    "consumer.subscribe([topic_name])\n",
    "\n",
    "print(\"Monitorando mensagens do Kafka... Pressione Ctrl+C para parar.\")\n",
    "\n",
    "try:\n",
    "    while True:\n",
    "        msg = consumer.poll(1.0)  # Aguarda por mensagens\n",
    "\n",
    "        if msg is None:\n",
    "            continue\n",
    "        if msg.error():\n",
    "            print(f\"Erro: {msg.error()}\")\n",
    "            continue\n",
    "\n",
    "        print(f\"Recebido: {msg.value().decode('utf-8')} de {msg.topic()} [{msg.partition()}]\")\n",
    "\n",
    "except KeyboardInterrupt:\n",
    "    print(\"Parando o consumidor...\")\n",
    "finally:\n",
    "    consumer.close()\n"
   ]
  },
  {
   "cell_type": "markdown",
   "metadata": {},
   "source": [
    "## Read data with spark structured streaming"
   ]
  },
  {
   "cell_type": "markdown",
   "metadata": {},
   "source": [
    "Create Delta Lake table with defined schema and change data feed enabled"
   ]
  },
  {
   "cell_type": "code",
   "execution_count": 1,
   "metadata": {},
   "outputs": [
    {
     "name": "stderr",
     "output_type": "stream",
     "text": [
      "your 131072x1 screen size is bogus. expect trouble\n",
      "Warning: Ignoring non-Spark config property: delta.autoOptimize.optimizeWrite\n",
      "Warning: Ignoring non-Spark config property: delta.autoOptimize.autoCompact\n",
      "25/01/16 13:34:03 WARN Utils: Your hostname, CPC-12806 resolves to a loopback address: 127.0.1.1; using 172.26.242.248 instead (on interface eth0)\n",
      "25/01/16 13:34:03 WARN Utils: Set SPARK_LOCAL_IP if you need to bind to another address\n"
     ]
    },
    {
     "name": "stdout",
     "output_type": "stream",
     "text": [
      ":: loading settings :: url = jar:file:/mnt/c/Users/ark/Meu%20Drive/Projetos%20Internos/spark-transform/.venv/lib/python3.12/site-packages/pyspark/jars/ivy-2.5.1.jar!/org/apache/ivy/core/settings/ivysettings.xml\n"
     ]
    },
    {
     "name": "stderr",
     "output_type": "stream",
     "text": [
      "Ivy Default Cache set to: /home/arthur/.ivy2/cache\n",
      "The jars for the packages stored in: /home/arthur/.ivy2/jars\n",
      "org.apache.hadoop#hadoop-aws added as a dependency\n",
      "io.delta#delta-spark_2.12 added as a dependency\n",
      "org.apache.spark#spark-sql-kafka-0-10_2.12 added as a dependency\n",
      "org.apache.kafka#kafka-clients added as a dependency\n",
      ":: resolving dependencies :: org.apache.spark#spark-submit-parent-532d8831-9d5b-48e0-9e74-97305d45db2d;1.0\n",
      "\tconfs: [default]\n",
      "\tfound org.apache.hadoop#hadoop-aws;3.3.4 in central\n",
      "\tfound com.amazonaws#aws-java-sdk-bundle;1.12.262 in central\n",
      "\tfound org.wildfly.openssl#wildfly-openssl;1.0.7.Final in central\n",
      "\tfound io.delta#delta-spark_2.12;3.3.0 in central\n",
      "\tfound io.delta#delta-storage;3.3.0 in central\n",
      "\tfound org.antlr#antlr4-runtime;4.9.3 in central\n",
      "\tfound org.apache.spark#spark-sql-kafka-0-10_2.12;3.5.4 in central\n",
      "\tfound org.apache.spark#spark-token-provider-kafka-0-10_2.12;3.5.4 in central\n",
      "\tfound org.apache.hadoop#hadoop-client-runtime;3.3.4 in central\n",
      "\tfound org.apache.hadoop#hadoop-client-api;3.3.4 in central\n",
      "\tfound org.xerial.snappy#snappy-java;1.1.10.5 in central\n",
      "\tfound org.slf4j#slf4j-api;2.0.7 in central\n",
      "\tfound commons-logging#commons-logging;1.1.3 in central\n",
      "\tfound com.google.code.findbugs#jsr305;3.0.0 in central\n",
      "\tfound org.apache.commons#commons-pool2;2.11.1 in central\n",
      "\tfound org.apache.kafka#kafka-clients;3.9.0 in central\n",
      "\tfound com.github.luben#zstd-jni;1.5.6-4 in central\n",
      "\tfound org.lz4#lz4-java;1.8.0 in central\n",
      ":: resolution report :: resolve 514ms :: artifacts dl 16ms\n",
      "\t:: modules in use:\n",
      "\tcom.amazonaws#aws-java-sdk-bundle;1.12.262 from central in [default]\n",
      "\tcom.github.luben#zstd-jni;1.5.6-4 from central in [default]\n",
      "\tcom.google.code.findbugs#jsr305;3.0.0 from central in [default]\n",
      "\tcommons-logging#commons-logging;1.1.3 from central in [default]\n",
      "\tio.delta#delta-spark_2.12;3.3.0 from central in [default]\n",
      "\tio.delta#delta-storage;3.3.0 from central in [default]\n",
      "\torg.antlr#antlr4-runtime;4.9.3 from central in [default]\n",
      "\torg.apache.commons#commons-pool2;2.11.1 from central in [default]\n",
      "\torg.apache.hadoop#hadoop-aws;3.3.4 from central in [default]\n",
      "\torg.apache.hadoop#hadoop-client-api;3.3.4 from central in [default]\n",
      "\torg.apache.hadoop#hadoop-client-runtime;3.3.4 from central in [default]\n",
      "\torg.apache.kafka#kafka-clients;3.9.0 from central in [default]\n",
      "\torg.apache.spark#spark-sql-kafka-0-10_2.12;3.5.4 from central in [default]\n",
      "\torg.apache.spark#spark-token-provider-kafka-0-10_2.12;3.5.4 from central in [default]\n",
      "\torg.lz4#lz4-java;1.8.0 from central in [default]\n",
      "\torg.slf4j#slf4j-api;2.0.7 from central in [default]\n",
      "\torg.wildfly.openssl#wildfly-openssl;1.0.7.Final from central in [default]\n",
      "\torg.xerial.snappy#snappy-java;1.1.10.5 from central in [default]\n",
      "\t:: evicted modules:\n",
      "\torg.apache.kafka#kafka-clients;3.4.1 by [org.apache.kafka#kafka-clients;3.9.0] in [default]\n",
      "\torg.slf4j#slf4j-api;1.7.36 by [org.slf4j#slf4j-api;2.0.7] in [default]\n",
      "\t---------------------------------------------------------------------\n",
      "\t|                  |            modules            ||   artifacts   |\n",
      "\t|       conf       | number| search|dwnlded|evicted|| number|dwnlded|\n",
      "\t---------------------------------------------------------------------\n",
      "\t|      default     |   20  |   0   |   0   |   2   ||   18  |   0   |\n",
      "\t---------------------------------------------------------------------\n",
      ":: retrieving :: org.apache.spark#spark-submit-parent-532d8831-9d5b-48e0-9e74-97305d45db2d\n",
      "\tconfs: [default]\n",
      "\t0 artifacts copied, 18 already retrieved (0kB/10ms)\n",
      "25/01/16 13:34:05 WARN NativeCodeLoader: Unable to load native-hadoop library for your platform... using builtin-java classes where applicable\n",
      "Setting default log level to \"WARN\".\n",
      "To adjust logging level use sc.setLogLevel(newLevel). For SparkR, use setLogLevel(newLevel).\n"
     ]
    }
   ],
   "source": [
    "from pyspark.sql.types import StructType, StringType, DoubleType\n",
    "from pyspark.sql.functions import from_json, col\n",
    "from pyspark.sql import SparkSession\n",
    "from pyspark.sql.functions import from_json, col\n",
    "from pyspark.sql.types import StructType, StringType, DoubleType\n",
    "import os\n",
    "\n",
    "os.environ[\"PYSPARK_SUBMIT_ARGS\"] = \"--packages org.apache.hadoop:hadoop-aws:3.3.4,io.delta:delta-spark_2.12:3.3.0,org.apache.spark:spark-sql-kafka-0-10_2.12:3.5.4,org.apache.kafka:kafka-clients:3.9.0 pyspark-shell\"\n",
    "\n",
    "# Initialize Spark session with Delta Lake and MinIO support\n",
    "spark = (SparkSession.builder \\\n",
    "    .appName(\"DeltaLakeWithMinIO\") \\\n",
    "    ## Delta\n",
    "    .config(\"spark.sql.extensions\", \"io.delta.sql.DeltaSparkSessionExtension\") \\\n",
    "    #Hive Catalog\n",
    "    .config(\"spark.sql.catalog.spark_catalog\", \"org.apache.spark.sql.delta.catalog.DeltaCatalog\") \\\n",
    "    ## Optimize Delta\n",
    "    .config(\"delta.autoOptimize.optimizeWrite\", \"true\") \\\n",
    "    .config(\"delta.autoOptimize.autoCompact\", \"true\") \\\n",
    "    .config(\"spark.delta.logStore.class\", \"org.apache.spark.sql.delta.storage.S3SingleDriverLogStore\") \\\n",
    "    ## MinIO\n",
    "    .config(\"spark.hadoop.fs.s3a.endpoint\", os.getenv(\"MINIO_ENDPOINT\")) \\\n",
    "    .config(\"spark.hadoop.fs.s3a.access.key\", os.getenv(\"MINIO_ACCESS_KEY\")) \\\n",
    "    .config(\"spark.hadoop.fs.s3a.secret.key\", os.getenv(\"MINIO_SECRET_KEY\")) \\\n",
    "    .config('spark.hadoop.fs.s3a.attempts.maximum', \"3\") \\\n",
    "    .config('spark.hadoop.fs.s3a.connection.timeout', \"10000\") \\\n",
    "    .config('spark.hadoop.fs.s3a.connection.establish.timeout', \"5000\") \\\n",
    "    .config(\"spark.hadoop.fs.s3a.path.style.access\", \"true\") \\\n",
    "    .config(\"spark.hadoop.fs.s3a.impl\", \"org.apache.hadoop.fs.s3a.S3AFileSystem\") \\\n",
    "    .config(\"spark.hadoop.fs.s3.impl\", \"org.apache.hadoop.fs.s3a.S3AFileSystem\") \\\n",
    "    .config(\"spark.hadoop.fs.s3n.impl\", \"org.apache.hadoop.fs.s3a.S3AFileSystem\") \\\n",
    "    .getOrCreate())"
   ]
  },
  {
   "cell_type": "code",
   "execution_count": 2,
   "metadata": {},
   "outputs": [
    {
     "name": "stderr",
     "output_type": "stream",
     "text": [
      "25/01/16 13:34:20 WARN MetricsConfig: Cannot locate configuration: tried hadoop-metrics2-s3a-file-system.properties,hadoop-metrics2.properties\n",
      "                                                                                \r"
     ]
    }
   ],
   "source": [
    "from pyspark.sql.types import StructType, StringType, DoubleType\n",
    "\n",
    "# Define the schema for the processed table\n",
    "processed_schema = StructType() \\\n",
    "    .add(\"timestamp\", StringType()) \\\n",
    "    .add(\"temperature\", DoubleType())\n",
    "\n",
    "# Create an empty DataFrame with the schema\n",
    "empty_processed_df = spark.createDataFrame([], processed_schema)\n",
    "\n",
    "# Write the empty DataFrame to create the Delta table with CDF enabled\n",
    "empty_processed_df.write.format(\"delta\") \\\n",
    "    .option(\"path\", \"s3a://lakehouse/delta/raw_iot_data\") \\\n",
    "    .option(\"delta.enableChangeDataFeed\", \"true\") \\\n",
    "    .mode(\"overwrite\") \\\n",
    "    .save()"
   ]
  },
  {
   "cell_type": "code",
   "execution_count": 3,
   "metadata": {},
   "outputs": [
    {
     "name": "stderr",
     "output_type": "stream",
     "text": [
      "25/01/16 13:34:36 WARN SparkStringUtils: Truncated the string representation of a plan since it was too large. This behavior can be adjusted by setting 'spark.sql.debug.maxToStringFields'.\n",
      "[Stage 3:================================>                       (29 + 14) / 50]\r"
     ]
    },
    {
     "name": "stdout",
     "output_type": "stream",
     "text": [
      "+--------+\n",
      "|count(1)|\n",
      "+--------+\n",
      "|       0|\n",
      "+--------+\n",
      "\n"
     ]
    },
    {
     "name": "stderr",
     "output_type": "stream",
     "text": [
      "                                                                                \r"
     ]
    }
   ],
   "source": [
    "spark.sql(\"SELECT COUNT(*) FROM delta.`s3a://lakehouse/delta/raw_iot_data`;\").show()"
   ]
  },
  {
   "cell_type": "markdown",
   "metadata": {},
   "source": [
    "## Read Kafka Stream"
   ]
  },
  {
   "cell_type": "code",
   "execution_count": 6,
   "metadata": {},
   "outputs": [
    {
     "name": "stdout",
     "output_type": "stream",
     "text": [
      "root\n",
      " |-- timestamp: string (nullable = true)\n",
      " |-- temperature: double (nullable = true)\n",
      "\n"
     ]
    }
   ],
   "source": [
    "# Kafka Configuration\n",
    "kafka_broker = \"kafka-cpc.certi.org.br:31289\"\n",
    "topic_name = \"iot-temperature\"\n",
    "\n",
    "# Define the schema for the JSON data\n",
    "schema = StructType() \\\n",
    "    .add(\"timestamp\", StringType()) \\\n",
    "    .add(\"temperature\", DoubleType())\n",
    "\n",
    "# Read data from Kafka\n",
    "kafka_stream = spark.readStream \\\n",
    "    .format(\"kafka\") \\\n",
    "    .option(\"kafka.bootstrap.servers\", kafka_broker) \\\n",
    "    .option(\"subscribe\", topic_name) \\\n",
    "    .option(\"startingOffsets\", \"earliest\") \\\n",
    "    .load()\n",
    "\n",
    "# Deserialize Kafka value (JSON string) into columns\n",
    "parsed_stream = kafka_stream.selectExpr(\"CAST(value AS STRING)\") \\\n",
    "    .select(from_json(col(\"value\"), schema).alias(\"data\")) \\\n",
    "    .select(\"data.*\")\n",
    "\n",
    "# Output the parsed stream for verification\n",
    "parsed_stream.printSchema()\n"
   ]
  },
  {
   "cell_type": "markdown",
   "metadata": {},
   "source": [
    "## Write Delta Stream"
   ]
  },
  {
   "cell_type": "code",
   "execution_count": 7,
   "metadata": {},
   "outputs": [
    {
     "name": "stderr",
     "output_type": "stream",
     "text": [
      "25/01/16 14:00:11 WARN ResolveWriteToStream: spark.sql.adaptive.enabled is not supported in streaming DataFrames/Datasets and will be disabled.\n",
      "25/01/16 14:00:12 WARN StreamingQueryManager: Stopping existing streaming query [id=c4c5e95a-a077-482c-8787-76257b98db8f, runId=ee839e49-6f9f-49d0-94ff-6c678438328a], as a new run is being started.\n"
     ]
    },
    {
     "name": "stdout",
     "output_type": "stream",
     "text": [
      "Streaming Kafka data into Delta Lake (raw_iot_data)...\n",
      "None\n"
     ]
    },
    {
     "name": "stderr",
     "output_type": "stream",
     "text": [
      "[Stage 598:>                                                        (0 + 7) / 7]\r"
     ]
    },
    {
     "name": "stdout",
     "output_type": "stream",
     "text": [
      "None\n"
     ]
    },
    {
     "name": "stderr",
     "output_type": "stream",
     "text": [
      "                                                                                \r"
     ]
    },
    {
     "name": "stdout",
     "output_type": "stream",
     "text": [
      "{'id': 'c4c5e95a-a077-482c-8787-76257b98db8f', 'runId': '04edde25-e713-41ae-852c-bde3ae79f0ce', 'name': None, 'timestamp': '2025-01-16T17:00:12.426Z', 'batchId': 126, 'numInputRows': 9, 'inputRowsPerSecond': 0.0, 'processedRowsPerSecond': 1.025524156791249, 'durationMs': {'addBatch': 4811, 'commitOffsets': 1331, 'getBatch': 0, 'latestOffset': 387, 'queryPlanning': 119, 'triggerExecution': 8776, 'walCommit': 1481}, 'stateOperators': [], 'sources': [{'description': 'KafkaV2[Subscribe[iot-temperature]]', 'startOffset': {'iot-temperature': {'8': 348, '11': 359, '2': 376, '5': 398, '14': 394, '13': 352, '4': 370, '7': 355, '1': 356, '10': 369, '9': 360, '3': 379, '12': 406, '6': 368, '0': 356}}, 'endOffset': {'iot-temperature': {'8': 348, '11': 360, '2': 376, '5': 399, '14': 394, '13': 352, '4': 371, '7': 356, '1': 356, '10': 369, '9': 360, '3': 380, '12': 406, '6': 371, '0': 357}}, 'latestOffset': {'iot-temperature': {'8': 348, '11': 360, '2': 376, '5': 399, '14': 394, '13': 352, '4': 371, '7': 356, '1': 356, '10': 369, '9': 360, '3': 380, '12': 406, '6': 371, '0': 357}}, 'numInputRows': 9, 'inputRowsPerSecond': 0.0, 'processedRowsPerSecond': 1.025524156791249, 'metrics': {'avgOffsetsBehindLatest': '0.0', 'maxOffsetsBehindLatest': '0', 'minOffsetsBehindLatest': '0'}}], 'sink': {'description': 'DeltaSink[s3a://lakehouse/delta/raw_iot_data]', 'numOutputRows': -1}}\n"
     ]
    },
    {
     "name": "stderr",
     "output_type": "stream",
     "text": [
      "                                                                                \r"
     ]
    },
    {
     "name": "stdout",
     "output_type": "stream",
     "text": [
      "{'id': 'c4c5e95a-a077-482c-8787-76257b98db8f', 'runId': '04edde25-e713-41ae-852c-bde3ae79f0ce', 'name': None, 'timestamp': '2025-01-16T17:00:12.426Z', 'batchId': 126, 'numInputRows': 9, 'inputRowsPerSecond': 0.0, 'processedRowsPerSecond': 1.025524156791249, 'durationMs': {'addBatch': 4811, 'commitOffsets': 1331, 'getBatch': 0, 'latestOffset': 387, 'queryPlanning': 119, 'triggerExecution': 8776, 'walCommit': 1481}, 'stateOperators': [], 'sources': [{'description': 'KafkaV2[Subscribe[iot-temperature]]', 'startOffset': {'iot-temperature': {'8': 348, '11': 359, '2': 376, '5': 398, '14': 394, '13': 352, '4': 370, '7': 355, '1': 356, '10': 369, '9': 360, '3': 379, '12': 406, '6': 368, '0': 356}}, 'endOffset': {'iot-temperature': {'8': 348, '11': 360, '2': 376, '5': 399, '14': 394, '13': 352, '4': 371, '7': 356, '1': 356, '10': 369, '9': 360, '3': 380, '12': 406, '6': 371, '0': 357}}, 'latestOffset': {'iot-temperature': {'8': 348, '11': 360, '2': 376, '5': 399, '14': 394, '13': 352, '4': 371, '7': 356, '1': 356, '10': 369, '9': 360, '3': 380, '12': 406, '6': 371, '0': 357}}, 'numInputRows': 9, 'inputRowsPerSecond': 0.0, 'processedRowsPerSecond': 1.025524156791249, 'metrics': {'avgOffsetsBehindLatest': '0.0', 'maxOffsetsBehindLatest': '0', 'minOffsetsBehindLatest': '0'}}], 'sink': {'description': 'DeltaSink[s3a://lakehouse/delta/raw_iot_data]', 'numOutputRows': -1}}\n"
     ]
    },
    {
     "name": "stderr",
     "output_type": "stream",
     "text": [
      "                                                                                \r"
     ]
    },
    {
     "name": "stdout",
     "output_type": "stream",
     "text": [
      "{'id': 'c4c5e95a-a077-482c-8787-76257b98db8f', 'runId': '04edde25-e713-41ae-852c-bde3ae79f0ce', 'name': None, 'timestamp': '2025-01-16T17:00:21.203Z', 'batchId': 127, 'numInputRows': 8, 'inputRowsPerSecond': 0.9114731685086022, 'processedRowsPerSecond': 1.171303074670571, 'durationMs': {'addBatch': 4272, 'commitOffsets': 1213, 'getBatch': 0, 'latestOffset': 99, 'queryPlanning': 5, 'triggerExecution': 6830, 'walCommit': 1240}, 'stateOperators': [], 'sources': [{'description': 'KafkaV2[Subscribe[iot-temperature]]', 'startOffset': {'iot-temperature': {'8': 348, '11': 360, '2': 376, '5': 399, '14': 394, '13': 352, '4': 371, '7': 356, '1': 356, '10': 369, '9': 360, '3': 380, '12': 406, '6': 371, '0': 357}}, 'endOffset': {'iot-temperature': {'8': 348, '11': 360, '2': 376, '5': 399, '14': 395, '13': 353, '4': 372, '7': 356, '1': 357, '10': 370, '9': 360, '3': 381, '12': 407, '6': 371, '0': 358}}, 'latestOffset': {'iot-temperature': {'8': 348, '11': 360, '2': 376, '5': 399, '14': 395, '13': 353, '4': 372, '7': 356, '1': 357, '10': 370, '9': 360, '3': 381, '12': 407, '6': 371, '0': 358}}, 'numInputRows': 8, 'inputRowsPerSecond': 0.9114731685086022, 'processedRowsPerSecond': 1.171303074670571, 'metrics': {'avgOffsetsBehindLatest': '0.0', 'maxOffsetsBehindLatest': '0', 'minOffsetsBehindLatest': '0'}}], 'sink': {'description': 'DeltaSink[s3a://lakehouse/delta/raw_iot_data]', 'numOutputRows': -1}}\n",
      "{'id': 'c4c5e95a-a077-482c-8787-76257b98db8f', 'runId': '04edde25-e713-41ae-852c-bde3ae79f0ce', 'name': None, 'timestamp': '2025-01-16T17:00:28.033Z', 'batchId': 128, 'numInputRows': 7, 'inputRowsPerSecond': 1.0248901903367496, 'processedRowsPerSecond': 0.9891196834817013, 'durationMs': {'addBatch': 4089, 'commitOffsets': 1721, 'getBatch': 0, 'latestOffset': 98, 'queryPlanning': 5, 'triggerExecution': 7077, 'walCommit': 1164}, 'stateOperators': [], 'sources': [{'description': 'KafkaV2[Subscribe[iot-temperature]]', 'startOffset': {'iot-temperature': {'8': 348, '11': 360, '2': 376, '5': 399, '14': 395, '13': 353, '4': 372, '7': 356, '1': 357, '10': 370, '9': 360, '3': 381, '12': 407, '6': 371, '0': 358}}, 'endOffset': {'iot-temperature': {'8': 348, '11': 360, '2': 376, '5': 399, '14': 396, '13': 354, '4': 373, '7': 356, '1': 357, '10': 371, '9': 360, '3': 382, '12': 407, '6': 373, '0': 358}}, 'latestOffset': {'iot-temperature': {'8': 348, '11': 360, '2': 376, '5': 399, '14': 396, '13': 354, '4': 373, '7': 356, '1': 357, '10': 371, '9': 360, '3': 382, '12': 407, '6': 373, '0': 358}}, 'numInputRows': 7, 'inputRowsPerSecond': 1.0248901903367496, 'processedRowsPerSecond': 0.9891196834817013, 'metrics': {'avgOffsetsBehindLatest': '0.0', 'maxOffsetsBehindLatest': '0', 'minOffsetsBehindLatest': '0'}}], 'sink': {'description': 'DeltaSink[s3a://lakehouse/delta/raw_iot_data]', 'numOutputRows': -1}}\n"
     ]
    },
    {
     "name": "stderr",
     "output_type": "stream",
     "text": [
      "[Stage 611:==================================================>    (10 + 1) / 11]\r"
     ]
    },
    {
     "name": "stdout",
     "output_type": "stream",
     "text": [
      "{'id': 'c4c5e95a-a077-482c-8787-76257b98db8f', 'runId': '04edde25-e713-41ae-852c-bde3ae79f0ce', 'name': None, 'timestamp': '2025-01-16T17:00:28.033Z', 'batchId': 128, 'numInputRows': 7, 'inputRowsPerSecond': 1.0248901903367496, 'processedRowsPerSecond': 0.9891196834817013, 'durationMs': {'addBatch': 4089, 'commitOffsets': 1721, 'getBatch': 0, 'latestOffset': 98, 'queryPlanning': 5, 'triggerExecution': 7077, 'walCommit': 1164}, 'stateOperators': [], 'sources': [{'description': 'KafkaV2[Subscribe[iot-temperature]]', 'startOffset': {'iot-temperature': {'8': 348, '11': 360, '2': 376, '5': 399, '14': 395, '13': 353, '4': 372, '7': 356, '1': 357, '10': 370, '9': 360, '3': 381, '12': 407, '6': 371, '0': 358}}, 'endOffset': {'iot-temperature': {'8': 348, '11': 360, '2': 376, '5': 399, '14': 396, '13': 354, '4': 373, '7': 356, '1': 357, '10': 371, '9': 360, '3': 382, '12': 407, '6': 373, '0': 358}}, 'latestOffset': {'iot-temperature': {'8': 348, '11': 360, '2': 376, '5': 399, '14': 396, '13': 354, '4': 373, '7': 356, '1': 357, '10': 371, '9': 360, '3': 382, '12': 407, '6': 373, '0': 358}}, 'numInputRows': 7, 'inputRowsPerSecond': 1.0248901903367496, 'processedRowsPerSecond': 0.9891196834817013, 'metrics': {'avgOffsetsBehindLatest': '0.0', 'maxOffsetsBehindLatest': '0', 'minOffsetsBehindLatest': '0'}}], 'sink': {'description': 'DeltaSink[s3a://lakehouse/delta/raw_iot_data]', 'numOutputRows': -1}}\n"
     ]
    },
    {
     "name": "stderr",
     "output_type": "stream",
     "text": [
      "                                                                                \r"
     ]
    },
    {
     "name": "stdout",
     "output_type": "stream",
     "text": [
      "{'id': 'c4c5e95a-a077-482c-8787-76257b98db8f', 'runId': '04edde25-e713-41ae-852c-bde3ae79f0ce', 'name': None, 'timestamp': '2025-01-16T17:00:35.111Z', 'batchId': 129, 'numInputRows': 7, 'inputRowsPerSecond': 0.9889799378355467, 'processedRowsPerSecond': 0.5852842809364548, 'durationMs': {'addBatch': 8670, 'commitOffsets': 1399, 'getBatch': 0, 'latestOffset': 99, 'queryPlanning': 5, 'triggerExecution': 11960, 'walCommit': 1787}, 'stateOperators': [], 'sources': [{'description': 'KafkaV2[Subscribe[iot-temperature]]', 'startOffset': {'iot-temperature': {'8': 348, '11': 360, '2': 376, '5': 399, '14': 396, '13': 354, '4': 373, '7': 356, '1': 357, '10': 371, '9': 360, '3': 382, '12': 407, '6': 373, '0': 358}}, 'endOffset': {'iot-temperature': {'8': 349, '11': 361, '2': 377, '5': 400, '14': 396, '13': 354, '4': 374, '7': 356, '1': 357, '10': 371, '9': 360, '3': 382, '12': 408, '6': 373, '0': 359}}, 'latestOffset': {'iot-temperature': {'8': 349, '11': 361, '2': 377, '5': 400, '14': 396, '13': 354, '4': 374, '7': 356, '1': 357, '10': 371, '9': 360, '3': 382, '12': 408, '6': 373, '0': 359}}, 'numInputRows': 7, 'inputRowsPerSecond': 0.9889799378355467, 'processedRowsPerSecond': 0.5852842809364548, 'metrics': {'avgOffsetsBehindLatest': '0.0', 'maxOffsetsBehindLatest': '0', 'minOffsetsBehindLatest': '0'}}], 'sink': {'description': 'DeltaSink[s3a://lakehouse/delta/raw_iot_data]', 'numOutputRows': -1}}\n"
     ]
    },
    {
     "name": "stderr",
     "output_type": "stream",
     "text": [
      "                                                                                \r"
     ]
    },
    {
     "name": "stdout",
     "output_type": "stream",
     "text": [
      "{'id': 'c4c5e95a-a077-482c-8787-76257b98db8f', 'runId': '04edde25-e713-41ae-852c-bde3ae79f0ce', 'name': None, 'timestamp': '2025-01-16T17:00:35.111Z', 'batchId': 129, 'numInputRows': 7, 'inputRowsPerSecond': 0.9889799378355467, 'processedRowsPerSecond': 0.5852842809364548, 'durationMs': {'addBatch': 8670, 'commitOffsets': 1399, 'getBatch': 0, 'latestOffset': 99, 'queryPlanning': 5, 'triggerExecution': 11960, 'walCommit': 1787}, 'stateOperators': [], 'sources': [{'description': 'KafkaV2[Subscribe[iot-temperature]]', 'startOffset': {'iot-temperature': {'8': 348, '11': 360, '2': 376, '5': 399, '14': 396, '13': 354, '4': 373, '7': 356, '1': 357, '10': 371, '9': 360, '3': 382, '12': 407, '6': 373, '0': 358}}, 'endOffset': {'iot-temperature': {'8': 349, '11': 361, '2': 377, '5': 400, '14': 396, '13': 354, '4': 374, '7': 356, '1': 357, '10': 371, '9': 360, '3': 382, '12': 408, '6': 373, '0': 359}}, 'latestOffset': {'iot-temperature': {'8': 349, '11': 361, '2': 377, '5': 400, '14': 396, '13': 354, '4': 374, '7': 356, '1': 357, '10': 371, '9': 360, '3': 382, '12': 408, '6': 373, '0': 359}}, 'numInputRows': 7, 'inputRowsPerSecond': 0.9889799378355467, 'processedRowsPerSecond': 0.5852842809364548, 'metrics': {'avgOffsetsBehindLatest': '0.0', 'maxOffsetsBehindLatest': '0', 'minOffsetsBehindLatest': '0'}}], 'sink': {'description': 'DeltaSink[s3a://lakehouse/delta/raw_iot_data]', 'numOutputRows': -1}}\n",
      "{'id': 'c4c5e95a-a077-482c-8787-76257b98db8f', 'runId': '04edde25-e713-41ae-852c-bde3ae79f0ce', 'name': None, 'timestamp': '2025-01-16T17:00:47.071Z', 'batchId': 130, 'numInputRows': 12, 'inputRowsPerSecond': 1.0033444816053512, 'processedRowsPerSecond': 1.6987542468856172, 'durationMs': {'addBatch': 4239, 'commitOffsets': 1063, 'getBatch': 0, 'latestOffset': 98, 'queryPlanning': 5, 'triggerExecution': 7064, 'walCommit': 1659}, 'stateOperators': [], 'sources': [{'description': 'KafkaV2[Subscribe[iot-temperature]]', 'startOffset': {'iot-temperature': {'8': 349, '11': 361, '2': 377, '5': 400, '14': 396, '13': 354, '4': 374, '7': 356, '1': 357, '10': 371, '9': 360, '3': 382, '12': 408, '6': 373, '0': 359}}, 'endOffset': {'iot-temperature': {'8': 350, '11': 363, '2': 378, '5': 402, '14': 397, '13': 354, '4': 374, '7': 357, '1': 358, '10': 371, '9': 361, '3': 383, '12': 409, '6': 373, '0': 359}}, 'latestOffset': {'iot-temperature': {'8': 350, '11': 363, '2': 378, '5': 402, '14': 397, '13': 354, '4': 374, '7': 357, '1': 358, '10': 371, '9': 361, '3': 383, '12': 409, '6': 373, '0': 359}}, 'numInputRows': 12, 'inputRowsPerSecond': 1.0033444816053512, 'processedRowsPerSecond': 1.6987542468856172, 'metrics': {'avgOffsetsBehindLatest': '0.0', 'maxOffsetsBehindLatest': '0', 'minOffsetsBehindLatest': '0'}}], 'sink': {'description': 'DeltaSink[s3a://lakehouse/delta/raw_iot_data]', 'numOutputRows': -1}}\n"
     ]
    },
    {
     "name": "stderr",
     "output_type": "stream",
     "text": [
      "                                                                                \r"
     ]
    },
    {
     "name": "stdout",
     "output_type": "stream",
     "text": [
      "{'id': 'c4c5e95a-a077-482c-8787-76257b98db8f', 'runId': '04edde25-e713-41ae-852c-bde3ae79f0ce', 'name': None, 'timestamp': '2025-01-16T17:00:54.135Z', 'batchId': 131, 'numInputRows': 7, 'inputRowsPerSecond': 0.9909399773499433, 'processedRowsPerSecond': 0.9987159366528748, 'durationMs': {'addBatch': 4645, 'commitOffsets': 1085, 'getBatch': 0, 'latestOffset': 101, 'queryPlanning': 5, 'triggerExecution': 7008, 'walCommit': 1172}, 'stateOperators': [], 'sources': [{'description': 'KafkaV2[Subscribe[iot-temperature]]', 'startOffset': {'iot-temperature': {'8': 350, '11': 363, '2': 378, '5': 402, '14': 397, '13': 354, '4': 374, '7': 357, '1': 358, '10': 371, '9': 361, '3': 383, '12': 409, '6': 373, '0': 359}}, 'endOffset': {'iot-temperature': {'8': 350, '11': 363, '2': 378, '5': 404, '14': 397, '13': 354, '4': 374, '7': 358, '1': 358, '10': 371, '9': 361, '3': 384, '12': 411, '6': 374, '0': 359}}, 'latestOffset': {'iot-temperature': {'8': 350, '11': 363, '2': 378, '5': 404, '14': 397, '13': 354, '4': 374, '7': 358, '1': 358, '10': 371, '9': 361, '3': 384, '12': 411, '6': 374, '0': 359}}, 'numInputRows': 7, 'inputRowsPerSecond': 0.9909399773499433, 'processedRowsPerSecond': 0.9987159366528748, 'metrics': {'avgOffsetsBehindLatest': '0.0', 'maxOffsetsBehindLatest': '0', 'minOffsetsBehindLatest': '0'}}], 'sink': {'description': 'DeltaSink[s3a://lakehouse/delta/raw_iot_data]', 'numOutputRows': -1}}\n"
     ]
    },
    {
     "name": "stderr",
     "output_type": "stream",
     "text": [
      "                                                                                \r"
     ]
    },
    {
     "name": "stdout",
     "output_type": "stream",
     "text": [
      "{'id': 'c4c5e95a-a077-482c-8787-76257b98db8f', 'runId': '04edde25-e713-41ae-852c-bde3ae79f0ce', 'name': None, 'timestamp': '2025-01-16T17:00:54.135Z', 'batchId': 131, 'numInputRows': 7, 'inputRowsPerSecond': 0.9909399773499433, 'processedRowsPerSecond': 0.9987159366528748, 'durationMs': {'addBatch': 4645, 'commitOffsets': 1085, 'getBatch': 0, 'latestOffset': 101, 'queryPlanning': 5, 'triggerExecution': 7008, 'walCommit': 1172}, 'stateOperators': [], 'sources': [{'description': 'KafkaV2[Subscribe[iot-temperature]]', 'startOffset': {'iot-temperature': {'8': 350, '11': 363, '2': 378, '5': 402, '14': 397, '13': 354, '4': 374, '7': 357, '1': 358, '10': 371, '9': 361, '3': 383, '12': 409, '6': 373, '0': 359}}, 'endOffset': {'iot-temperature': {'8': 350, '11': 363, '2': 378, '5': 404, '14': 397, '13': 354, '4': 374, '7': 358, '1': 358, '10': 371, '9': 361, '3': 384, '12': 411, '6': 374, '0': 359}}, 'latestOffset': {'iot-temperature': {'8': 350, '11': 363, '2': 378, '5': 404, '14': 397, '13': 354, '4': 374, '7': 358, '1': 358, '10': 371, '9': 361, '3': 384, '12': 411, '6': 374, '0': 359}}, 'numInputRows': 7, 'inputRowsPerSecond': 0.9909399773499433, 'processedRowsPerSecond': 0.9987159366528748, 'metrics': {'avgOffsetsBehindLatest': '0.0', 'maxOffsetsBehindLatest': '0', 'minOffsetsBehindLatest': '0'}}], 'sink': {'description': 'DeltaSink[s3a://lakehouse/delta/raw_iot_data]', 'numOutputRows': -1}}\n"
     ]
    },
    {
     "name": "stderr",
     "output_type": "stream",
     "text": [
      "                                                                                \r"
     ]
    },
    {
     "name": "stdout",
     "output_type": "stream",
     "text": [
      "{'id': 'c4c5e95a-a077-482c-8787-76257b98db8f', 'runId': '04edde25-e713-41ae-852c-bde3ae79f0ce', 'name': None, 'timestamp': '2025-01-16T17:01:01.145Z', 'batchId': 132, 'numInputRows': 7, 'inputRowsPerSecond': 0.9985734664764623, 'processedRowsPerSecond': 1.0809141445336627, 'durationMs': {'addBatch': 4083, 'commitOffsets': 1162, 'getBatch': 0, 'latestOffset': 99, 'queryPlanning': 5, 'triggerExecution': 6476, 'walCommit': 1127}, 'stateOperators': [], 'sources': [{'description': 'KafkaV2[Subscribe[iot-temperature]]', 'startOffset': {'iot-temperature': {'8': 350, '11': 363, '2': 378, '5': 404, '14': 397, '13': 354, '4': 374, '7': 358, '1': 358, '10': 371, '9': 361, '3': 384, '12': 411, '6': 374, '0': 359}}, 'endOffset': {'iot-temperature': {'8': 351, '11': 363, '2': 378, '5': 404, '14': 397, '13': 354, '4': 375, '7': 358, '1': 358, '10': 371, '9': 362, '3': 385, '12': 413, '6': 374, '0': 360}}, 'latestOffset': {'iot-temperature': {'8': 351, '11': 363, '2': 378, '5': 404, '14': 397, '13': 354, '4': 375, '7': 358, '1': 358, '10': 371, '9': 362, '3': 385, '12': 413, '6': 374, '0': 360}}, 'numInputRows': 7, 'inputRowsPerSecond': 0.9985734664764623, 'processedRowsPerSecond': 1.0809141445336627, 'metrics': {'avgOffsetsBehindLatest': '0.0', 'maxOffsetsBehindLatest': '0', 'minOffsetsBehindLatest': '0'}}], 'sink': {'description': 'DeltaSink[s3a://lakehouse/delta/raw_iot_data]', 'numOutputRows': -1}}\n",
      "{'id': 'c4c5e95a-a077-482c-8787-76257b98db8f', 'runId': '04edde25-e713-41ae-852c-bde3ae79f0ce', 'name': None, 'timestamp': '2025-01-16T17:01:07.622Z', 'batchId': 133, 'numInputRows': 7, 'inputRowsPerSecond': 1.0807472595337346, 'processedRowsPerSecond': 1.0609275538041831, 'durationMs': {'addBatch': 3975, 'commitOffsets': 1302, 'getBatch': 0, 'latestOffset': 99, 'queryPlanning': 4, 'triggerExecution': 6598, 'walCommit': 1218}, 'stateOperators': [], 'sources': [{'description': 'KafkaV2[Subscribe[iot-temperature]]', 'startOffset': {'iot-temperature': {'8': 351, '11': 363, '2': 378, '5': 404, '14': 397, '13': 354, '4': 375, '7': 358, '1': 358, '10': 371, '9': 362, '3': 385, '12': 413, '6': 374, '0': 360}}, 'endOffset': {'iot-temperature': {'8': 351, '11': 363, '2': 379, '5': 404, '14': 398, '13': 354, '4': 375, '7': 359, '1': 358, '10': 372, '9': 362, '3': 386, '12': 414, '6': 374, '0': 361}}, 'latestOffset': {'iot-temperature': {'8': 351, '11': 363, '2': 379, '5': 404, '14': 398, '13': 354, '4': 375, '7': 359, '1': 358, '10': 372, '9': 362, '3': 386, '12': 414, '6': 374, '0': 361}}, 'numInputRows': 7, 'inputRowsPerSecond': 1.0807472595337346, 'processedRowsPerSecond': 1.0609275538041831, 'metrics': {'avgOffsetsBehindLatest': '0.0', 'maxOffsetsBehindLatest': '0', 'minOffsetsBehindLatest': '0'}}], 'sink': {'description': 'DeltaSink[s3a://lakehouse/delta/raw_iot_data]', 'numOutputRows': -1}}\n"
     ]
    },
    {
     "name": "stderr",
     "output_type": "stream",
     "text": [
      "                                                                                \r"
     ]
    },
    {
     "name": "stdout",
     "output_type": "stream",
     "text": [
      "{'id': 'c4c5e95a-a077-482c-8787-76257b98db8f', 'runId': '04edde25-e713-41ae-852c-bde3ae79f0ce', 'name': None, 'timestamp': '2025-01-16T17:01:14.221Z', 'batchId': 134, 'numInputRows': 6, 'inputRowsPerSecond': 0.9092286710107592, 'processedRowsPerSecond': 0.9398496240601504, 'durationMs': {'addBatch': 4172, 'commitOffsets': 1038, 'getBatch': 0, 'latestOffset': 100, 'queryPlanning': 4, 'triggerExecution': 6384, 'walCommit': 1069}, 'stateOperators': [], 'sources': [{'description': 'KafkaV2[Subscribe[iot-temperature]]', 'startOffset': {'iot-temperature': {'8': 351, '11': 363, '2': 379, '5': 404, '14': 398, '13': 354, '4': 375, '7': 359, '1': 358, '10': 372, '9': 362, '3': 386, '12': 414, '6': 374, '0': 361}}, 'endOffset': {'iot-temperature': {'8': 352, '11': 363, '2': 379, '5': 406, '14': 399, '13': 354, '4': 375, '7': 360, '1': 358, '10': 372, '9': 362, '3': 387, '12': 414, '6': 374, '0': 361}}, 'latestOffset': {'iot-temperature': {'8': 352, '11': 363, '2': 379, '5': 406, '14': 399, '13': 354, '4': 375, '7': 360, '1': 358, '10': 372, '9': 362, '3': 387, '12': 414, '6': 374, '0': 361}}, 'numInputRows': 6, 'inputRowsPerSecond': 0.9092286710107592, 'processedRowsPerSecond': 0.9398496240601504, 'metrics': {'avgOffsetsBehindLatest': '0.0', 'maxOffsetsBehindLatest': '0', 'minOffsetsBehindLatest': '0'}}], 'sink': {'description': 'DeltaSink[s3a://lakehouse/delta/raw_iot_data]', 'numOutputRows': -1}}\n"
     ]
    },
    {
     "name": "stderr",
     "output_type": "stream",
     "text": [
      "                                                                                \r"
     ]
    },
    {
     "name": "stdout",
     "output_type": "stream",
     "text": [
      "{'id': 'c4c5e95a-a077-482c-8787-76257b98db8f', 'runId': '04edde25-e713-41ae-852c-bde3ae79f0ce', 'name': None, 'timestamp': '2025-01-16T17:01:14.221Z', 'batchId': 134, 'numInputRows': 6, 'inputRowsPerSecond': 0.9092286710107592, 'processedRowsPerSecond': 0.9398496240601504, 'durationMs': {'addBatch': 4172, 'commitOffsets': 1038, 'getBatch': 0, 'latestOffset': 100, 'queryPlanning': 4, 'triggerExecution': 6384, 'walCommit': 1069}, 'stateOperators': [], 'sources': [{'description': 'KafkaV2[Subscribe[iot-temperature]]', 'startOffset': {'iot-temperature': {'8': 351, '11': 363, '2': 379, '5': 404, '14': 398, '13': 354, '4': 375, '7': 359, '1': 358, '10': 372, '9': 362, '3': 386, '12': 414, '6': 374, '0': 361}}, 'endOffset': {'iot-temperature': {'8': 352, '11': 363, '2': 379, '5': 406, '14': 399, '13': 354, '4': 375, '7': 360, '1': 358, '10': 372, '9': 362, '3': 387, '12': 414, '6': 374, '0': 361}}, 'latestOffset': {'iot-temperature': {'8': 352, '11': 363, '2': 379, '5': 406, '14': 399, '13': 354, '4': 375, '7': 360, '1': 358, '10': 372, '9': 362, '3': 387, '12': 414, '6': 374, '0': 361}}, 'numInputRows': 6, 'inputRowsPerSecond': 0.9092286710107592, 'processedRowsPerSecond': 0.9398496240601504, 'metrics': {'avgOffsetsBehindLatest': '0.0', 'maxOffsetsBehindLatest': '0', 'minOffsetsBehindLatest': '0'}}], 'sink': {'description': 'DeltaSink[s3a://lakehouse/delta/raw_iot_data]', 'numOutputRows': -1}}\n"
     ]
    },
    {
     "name": "stderr",
     "output_type": "stream",
     "text": [
      "                                                                                \r"
     ]
    },
    {
     "name": "stdout",
     "output_type": "stream",
     "text": [
      "{'id': 'c4c5e95a-a077-482c-8787-76257b98db8f', 'runId': '04edde25-e713-41ae-852c-bde3ae79f0ce', 'name': None, 'timestamp': '2025-01-16T17:01:20.605Z', 'batchId': 135, 'numInputRows': 7, 'inputRowsPerSecond': 1.0964912280701753, 'processedRowsPerSecond': 0.9743875278396437, 'durationMs': {'addBatch': 4843, 'commitOffsets': 1168, 'getBatch': 0, 'latestOffset': 103, 'queryPlanning': 5, 'triggerExecution': 7184, 'walCommit': 1063}, 'stateOperators': [], 'sources': [{'description': 'KafkaV2[Subscribe[iot-temperature]]', 'startOffset': {'iot-temperature': {'8': 352, '11': 363, '2': 379, '5': 406, '14': 399, '13': 354, '4': 375, '7': 360, '1': 358, '10': 372, '9': 362, '3': 387, '12': 414, '6': 374, '0': 361}}, 'endOffset': {'iot-temperature': {'8': 353, '11': 363, '2': 379, '5': 406, '14': 399, '13': 355, '4': 375, '7': 360, '1': 358, '10': 372, '9': 363, '3': 387, '12': 414, '6': 376, '0': 363}}, 'latestOffset': {'iot-temperature': {'8': 353, '11': 363, '2': 379, '5': 406, '14': 399, '13': 355, '4': 375, '7': 360, '1': 358, '10': 372, '9': 363, '3': 387, '12': 414, '6': 376, '0': 363}}, 'numInputRows': 7, 'inputRowsPerSecond': 1.0964912280701753, 'processedRowsPerSecond': 0.9743875278396437, 'metrics': {'avgOffsetsBehindLatest': '0.0', 'maxOffsetsBehindLatest': '0', 'minOffsetsBehindLatest': '0'}}], 'sink': {'description': 'DeltaSink[s3a://lakehouse/delta/raw_iot_data]', 'numOutputRows': -1}}\n",
      "{'id': 'c4c5e95a-a077-482c-8787-76257b98db8f', 'runId': '04edde25-e713-41ae-852c-bde3ae79f0ce', 'name': None, 'timestamp': '2025-01-16T17:01:27.790Z', 'batchId': 136, 'numInputRows': 7, 'inputRowsPerSecond': 0.9742519137091162, 'processedRowsPerSecond': 1.059642749016046, 'durationMs': {'addBatch': 4136, 'commitOffsets': 1125, 'getBatch': 0, 'latestOffset': 102, 'queryPlanning': 4, 'triggerExecution': 6606, 'walCommit': 1236}, 'stateOperators': [], 'sources': [{'description': 'KafkaV2[Subscribe[iot-temperature]]', 'startOffset': {'iot-temperature': {'8': 353, '11': 363, '2': 379, '5': 406, '14': 399, '13': 355, '4': 375, '7': 360, '1': 358, '10': 372, '9': 363, '3': 387, '12': 414, '6': 376, '0': 363}}, 'endOffset': {'iot-temperature': {'8': 353, '11': 363, '2': 379, '5': 406, '14': 399, '13': 356, '4': 376, '7': 360, '1': 359, '10': 372, '9': 364, '3': 388, '12': 415, '6': 377, '0': 363}}, 'latestOffset': {'iot-temperature': {'8': 353, '11': 363, '2': 379, '5': 406, '14': 399, '13': 356, '4': 376, '7': 360, '1': 359, '10': 372, '9': 364, '3': 388, '12': 415, '6': 377, '0': 363}}, 'numInputRows': 7, 'inputRowsPerSecond': 0.9742519137091162, 'processedRowsPerSecond': 1.059642749016046, 'metrics': {'avgOffsetsBehindLatest': '0.0', 'maxOffsetsBehindLatest': '0', 'minOffsetsBehindLatest': '0'}}], 'sink': {'description': 'DeltaSink[s3a://lakehouse/delta/raw_iot_data]', 'numOutputRows': -1}}\n"
     ]
    },
    {
     "name": "stderr",
     "output_type": "stream",
     "text": [
      "                                                                                \r"
     ]
    },
    {
     "name": "stdout",
     "output_type": "stream",
     "text": [
      "{'id': 'c4c5e95a-a077-482c-8787-76257b98db8f', 'runId': '04edde25-e713-41ae-852c-bde3ae79f0ce', 'name': None, 'timestamp': '2025-01-16T17:01:34.396Z', 'batchId': 137, 'numInputRows': 6, 'inputRowsPerSecond': 0.9082652134423251, 'processedRowsPerSecond': 0.8937881722031878, 'durationMs': {'addBatch': 4416, 'commitOffsets': 1083, 'getBatch': 0, 'latestOffset': 103, 'queryPlanning': 5, 'triggerExecution': 6713, 'walCommit': 1106}, 'stateOperators': [], 'sources': [{'description': 'KafkaV2[Subscribe[iot-temperature]]', 'startOffset': {'iot-temperature': {'8': 353, '11': 363, '2': 379, '5': 406, '14': 399, '13': 356, '4': 376, '7': 360, '1': 359, '10': 372, '9': 364, '3': 388, '12': 415, '6': 377, '0': 363}}, 'endOffset': {'iot-temperature': {'8': 353, '11': 364, '2': 380, '5': 406, '14': 399, '13': 358, '4': 377, '7': 360, '1': 359, '10': 372, '9': 364, '3': 388, '12': 416, '6': 377, '0': 363}}, 'latestOffset': {'iot-temperature': {'8': 353, '11': 364, '2': 380, '5': 406, '14': 399, '13': 358, '4': 377, '7': 360, '1': 359, '10': 372, '9': 364, '3': 388, '12': 416, '6': 377, '0': 363}}, 'numInputRows': 6, 'inputRowsPerSecond': 0.9082652134423251, 'processedRowsPerSecond': 0.8937881722031878, 'metrics': {'avgOffsetsBehindLatest': '0.0', 'maxOffsetsBehindLatest': '0', 'minOffsetsBehindLatest': '0'}}], 'sink': {'description': 'DeltaSink[s3a://lakehouse/delta/raw_iot_data]', 'numOutputRows': -1}}\n"
     ]
    },
    {
     "name": "stderr",
     "output_type": "stream",
     "text": [
      "                                                                                \r"
     ]
    },
    {
     "name": "stdout",
     "output_type": "stream",
     "text": [
      "{'id': 'c4c5e95a-a077-482c-8787-76257b98db8f', 'runId': '04edde25-e713-41ae-852c-bde3ae79f0ce', 'name': None, 'timestamp': '2025-01-16T17:01:34.396Z', 'batchId': 137, 'numInputRows': 6, 'inputRowsPerSecond': 0.9082652134423251, 'processedRowsPerSecond': 0.8937881722031878, 'durationMs': {'addBatch': 4416, 'commitOffsets': 1083, 'getBatch': 0, 'latestOffset': 103, 'queryPlanning': 5, 'triggerExecution': 6713, 'walCommit': 1106}, 'stateOperators': [], 'sources': [{'description': 'KafkaV2[Subscribe[iot-temperature]]', 'startOffset': {'iot-temperature': {'8': 353, '11': 363, '2': 379, '5': 406, '14': 399, '13': 356, '4': 376, '7': 360, '1': 359, '10': 372, '9': 364, '3': 388, '12': 415, '6': 377, '0': 363}}, 'endOffset': {'iot-temperature': {'8': 353, '11': 364, '2': 380, '5': 406, '14': 399, '13': 358, '4': 377, '7': 360, '1': 359, '10': 372, '9': 364, '3': 388, '12': 416, '6': 377, '0': 363}}, 'latestOffset': {'iot-temperature': {'8': 353, '11': 364, '2': 380, '5': 406, '14': 399, '13': 358, '4': 377, '7': 360, '1': 359, '10': 372, '9': 364, '3': 388, '12': 416, '6': 377, '0': 363}}, 'numInputRows': 6, 'inputRowsPerSecond': 0.9082652134423251, 'processedRowsPerSecond': 0.8937881722031878, 'metrics': {'avgOffsetsBehindLatest': '0.0', 'maxOffsetsBehindLatest': '0', 'minOffsetsBehindLatest': '0'}}], 'sink': {'description': 'DeltaSink[s3a://lakehouse/delta/raw_iot_data]', 'numOutputRows': -1}}\n"
     ]
    },
    {
     "name": "stderr",
     "output_type": "stream",
     "text": [
      "                                                                                \r"
     ]
    },
    {
     "name": "stdout",
     "output_type": "stream",
     "text": [
      "{'id': 'c4c5e95a-a077-482c-8787-76257b98db8f', 'runId': '04edde25-e713-41ae-852c-bde3ae79f0ce', 'name': None, 'timestamp': '2025-01-16T17:01:41.110Z', 'batchId': 138, 'numInputRows': 7, 'inputRowsPerSecond': 1.0425975573428656, 'processedRowsPerSecond': 1.039655428486559, 'durationMs': {'addBatch': 4320, 'commitOffsets': 1191, 'getBatch': 0, 'latestOffset': 114, 'queryPlanning': 4, 'triggerExecution': 6733, 'walCommit': 1103}, 'stateOperators': [], 'sources': [{'description': 'KafkaV2[Subscribe[iot-temperature]]', 'startOffset': {'iot-temperature': {'8': 353, '11': 364, '2': 380, '5': 406, '14': 399, '13': 358, '4': 377, '7': 360, '1': 359, '10': 372, '9': 364, '3': 388, '12': 416, '6': 377, '0': 363}}, 'endOffset': {'iot-temperature': {'8': 353, '11': 364, '2': 381, '5': 406, '14': 399, '13': 359, '4': 378, '7': 361, '1': 360, '10': 372, '9': 364, '3': 389, '12': 416, '6': 377, '0': 364}}, 'latestOffset': {'iot-temperature': {'8': 353, '11': 364, '2': 381, '5': 406, '14': 399, '13': 359, '4': 378, '7': 361, '1': 360, '10': 372, '9': 364, '3': 389, '12': 416, '6': 377, '0': 364}}, 'numInputRows': 7, 'inputRowsPerSecond': 1.0425975573428656, 'processedRowsPerSecond': 1.039655428486559, 'metrics': {'avgOffsetsBehindLatest': '0.0', 'maxOffsetsBehindLatest': '0', 'minOffsetsBehindLatest': '0'}}], 'sink': {'description': 'DeltaSink[s3a://lakehouse/delta/raw_iot_data]', 'numOutputRows': -1}}\n",
      "{'id': 'c4c5e95a-a077-482c-8787-76257b98db8f', 'runId': '04edde25-e713-41ae-852c-bde3ae79f0ce', 'name': None, 'timestamp': '2025-01-16T17:01:41.110Z', 'batchId': 138, 'numInputRows': 7, 'inputRowsPerSecond': 1.0425975573428656, 'processedRowsPerSecond': 1.039655428486559, 'durationMs': {'addBatch': 4320, 'commitOffsets': 1191, 'getBatch': 0, 'latestOffset': 114, 'queryPlanning': 4, 'triggerExecution': 6733, 'walCommit': 1103}, 'stateOperators': [], 'sources': [{'description': 'KafkaV2[Subscribe[iot-temperature]]', 'startOffset': {'iot-temperature': {'8': 353, '11': 364, '2': 380, '5': 406, '14': 399, '13': 358, '4': 377, '7': 360, '1': 359, '10': 372, '9': 364, '3': 388, '12': 416, '6': 377, '0': 363}}, 'endOffset': {'iot-temperature': {'8': 353, '11': 364, '2': 381, '5': 406, '14': 399, '13': 359, '4': 378, '7': 361, '1': 360, '10': 372, '9': 364, '3': 389, '12': 416, '6': 377, '0': 364}}, 'latestOffset': {'iot-temperature': {'8': 353, '11': 364, '2': 381, '5': 406, '14': 399, '13': 359, '4': 378, '7': 361, '1': 360, '10': 372, '9': 364, '3': 389, '12': 416, '6': 377, '0': 364}}, 'numInputRows': 7, 'inputRowsPerSecond': 1.0425975573428656, 'processedRowsPerSecond': 1.039655428486559, 'metrics': {'avgOffsetsBehindLatest': '0.0', 'maxOffsetsBehindLatest': '0', 'minOffsetsBehindLatest': '0'}}], 'sink': {'description': 'DeltaSink[s3a://lakehouse/delta/raw_iot_data]', 'numOutputRows': -1}}\n"
     ]
    },
    {
     "name": "stderr",
     "output_type": "stream",
     "text": [
      "                                                                                \r"
     ]
    },
    {
     "name": "stdout",
     "output_type": "stream",
     "text": [
      "{'id': 'c4c5e95a-a077-482c-8787-76257b98db8f', 'runId': '04edde25-e713-41ae-852c-bde3ae79f0ce', 'name': None, 'timestamp': '2025-01-16T17:01:47.844Z', 'batchId': 139, 'numInputRows': 7, 'inputRowsPerSecond': 1.0395010395010396, 'processedRowsPerSecond': 0.7164790174002047, 'durationMs': {'addBatch': 6856, 'commitOffsets': 1261, 'getBatch': 0, 'latestOffset': 120, 'queryPlanning': 4, 'triggerExecution': 9770, 'walCommit': 1528}, 'stateOperators': [], 'sources': [{'description': 'KafkaV2[Subscribe[iot-temperature]]', 'startOffset': {'iot-temperature': {'8': 353, '11': 364, '2': 381, '5': 406, '14': 399, '13': 359, '4': 378, '7': 361, '1': 360, '10': 372, '9': 364, '3': 389, '12': 416, '6': 377, '0': 364}}, 'endOffset': {'iot-temperature': {'8': 354, '11': 364, '2': 381, '5': 406, '14': 400, '13': 360, '4': 379, '7': 361, '1': 360, '10': 372, '9': 364, '3': 390, '12': 416, '6': 378, '0': 365}}, 'latestOffset': {'iot-temperature': {'8': 354, '11': 364, '2': 381, '5': 406, '14': 400, '13': 360, '4': 379, '7': 361, '1': 360, '10': 372, '9': 364, '3': 390, '12': 416, '6': 378, '0': 365}}, 'numInputRows': 7, 'inputRowsPerSecond': 1.0395010395010396, 'processedRowsPerSecond': 0.7164790174002047, 'metrics': {'avgOffsetsBehindLatest': '0.0', 'maxOffsetsBehindLatest': '0', 'minOffsetsBehindLatest': '0'}}], 'sink': {'description': 'DeltaSink[s3a://lakehouse/delta/raw_iot_data]', 'numOutputRows': -1}}\n"
     ]
    },
    {
     "name": "stderr",
     "output_type": "stream",
     "text": [
      "[Stage 670:=========>                                               (1 + 5) / 6]\r"
     ]
    },
    {
     "name": "stdout",
     "output_type": "stream",
     "text": [
      "{'id': 'c4c5e95a-a077-482c-8787-76257b98db8f', 'runId': '04edde25-e713-41ae-852c-bde3ae79f0ce', 'name': None, 'timestamp': '2025-01-16T17:01:57.615Z', 'batchId': 140, 'numInputRows': 10, 'inputRowsPerSecond': 1.0234367004400777, 'processedRowsPerSecond': 1.5370427297878881, 'durationMs': {'addBatch': 4052, 'commitOffsets': 1117, 'getBatch': 0, 'latestOffset': 117, 'queryPlanning': 4, 'triggerExecution': 6506, 'walCommit': 1215}, 'stateOperators': [], 'sources': [{'description': 'KafkaV2[Subscribe[iot-temperature]]', 'startOffset': {'iot-temperature': {'8': 354, '11': 364, '2': 381, '5': 406, '14': 400, '13': 360, '4': 379, '7': 361, '1': 360, '10': 372, '9': 364, '3': 390, '12': 416, '6': 378, '0': 365}}, 'endOffset': {'iot-temperature': {'8': 355, '11': 365, '2': 381, '5': 406, '14': 401, '13': 360, '4': 380, '7': 363, '1': 361, '10': 372, '9': 366, '3': 390, '12': 416, '6': 378, '0': 366}}, 'latestOffset': {'iot-temperature': {'8': 355, '11': 365, '2': 381, '5': 406, '14': 401, '13': 360, '4': 380, '7': 363, '1': 361, '10': 372, '9': 366, '3': 390, '12': 416, '6': 378, '0': 366}}, 'numInputRows': 10, 'inputRowsPerSecond': 1.0234367004400777, 'processedRowsPerSecond': 1.5370427297878881, 'metrics': {'avgOffsetsBehindLatest': '0.0', 'maxOffsetsBehindLatest': '0', 'minOffsetsBehindLatest': '0'}}], 'sink': {'description': 'DeltaSink[s3a://lakehouse/delta/raw_iot_data]', 'numOutputRows': -1}}\n"
     ]
    },
    {
     "name": "stderr",
     "output_type": "stream",
     "text": [
      "                                                                                \r"
     ]
    },
    {
     "name": "stdout",
     "output_type": "stream",
     "text": [
      "{'id': 'c4c5e95a-a077-482c-8787-76257b98db8f', 'runId': '04edde25-e713-41ae-852c-bde3ae79f0ce', 'name': None, 'timestamp': '2025-01-16T17:02:04.121Z', 'batchId': 141, 'numInputRows': 6, 'inputRowsPerSecond': 0.9222256378727328, 'processedRowsPerSecond': 0.8588605782994561, 'durationMs': {'addBatch': 4622, 'commitOffsets': 1085, 'getBatch': 0, 'latestOffset': 100, 'queryPlanning': 4, 'triggerExecution': 6986, 'walCommit': 1174}, 'stateOperators': [], 'sources': [{'description': 'KafkaV2[Subscribe[iot-temperature]]', 'startOffset': {'iot-temperature': {'8': 355, '11': 365, '2': 381, '5': 406, '14': 401, '13': 360, '4': 380, '7': 363, '1': 361, '10': 372, '9': 366, '3': 390, '12': 416, '6': 378, '0': 366}}, 'endOffset': {'iot-temperature': {'8': 355, '11': 365, '2': 381, '5': 407, '14': 401, '13': 360, '4': 380, '7': 364, '1': 361, '10': 372, '9': 367, '3': 390, '12': 417, '6': 379, '0': 367}}, 'latestOffset': {'iot-temperature': {'8': 355, '11': 365, '2': 381, '5': 407, '14': 401, '13': 360, '4': 380, '7': 364, '1': 361, '10': 372, '9': 367, '3': 390, '12': 417, '6': 379, '0': 367}}, 'numInputRows': 6, 'inputRowsPerSecond': 0.9222256378727328, 'processedRowsPerSecond': 0.8588605782994561, 'metrics': {'avgOffsetsBehindLatest': '0.0', 'maxOffsetsBehindLatest': '0', 'minOffsetsBehindLatest': '0'}}], 'sink': {'description': 'DeltaSink[s3a://lakehouse/delta/raw_iot_data]', 'numOutputRows': -1}}\n"
     ]
    },
    {
     "name": "stderr",
     "output_type": "stream",
     "text": [
      "                                                                                \r"
     ]
    },
    {
     "name": "stdout",
     "output_type": "stream",
     "text": [
      "{'id': 'c4c5e95a-a077-482c-8787-76257b98db8f', 'runId': '04edde25-e713-41ae-852c-bde3ae79f0ce', 'name': None, 'timestamp': '2025-01-16T17:02:04.121Z', 'batchId': 141, 'numInputRows': 6, 'inputRowsPerSecond': 0.9222256378727328, 'processedRowsPerSecond': 0.8588605782994561, 'durationMs': {'addBatch': 4622, 'commitOffsets': 1085, 'getBatch': 0, 'latestOffset': 100, 'queryPlanning': 4, 'triggerExecution': 6986, 'walCommit': 1174}, 'stateOperators': [], 'sources': [{'description': 'KafkaV2[Subscribe[iot-temperature]]', 'startOffset': {'iot-temperature': {'8': 355, '11': 365, '2': 381, '5': 406, '14': 401, '13': 360, '4': 380, '7': 363, '1': 361, '10': 372, '9': 366, '3': 390, '12': 416, '6': 378, '0': 366}}, 'endOffset': {'iot-temperature': {'8': 355, '11': 365, '2': 381, '5': 407, '14': 401, '13': 360, '4': 380, '7': 364, '1': 361, '10': 372, '9': 367, '3': 390, '12': 417, '6': 379, '0': 367}}, 'latestOffset': {'iot-temperature': {'8': 355, '11': 365, '2': 381, '5': 407, '14': 401, '13': 360, '4': 380, '7': 364, '1': 361, '10': 372, '9': 367, '3': 390, '12': 417, '6': 379, '0': 367}}, 'numInputRows': 6, 'inputRowsPerSecond': 0.9222256378727328, 'processedRowsPerSecond': 0.8588605782994561, 'metrics': {'avgOffsetsBehindLatest': '0.0', 'maxOffsetsBehindLatest': '0', 'minOffsetsBehindLatest': '0'}}], 'sink': {'description': 'DeltaSink[s3a://lakehouse/delta/raw_iot_data]', 'numOutputRows': -1}}\n"
     ]
    },
    {
     "name": "stderr",
     "output_type": "stream",
     "text": [
      "                                                                                \r"
     ]
    },
    {
     "name": "stdout",
     "output_type": "stream",
     "text": [
      "{'id': 'c4c5e95a-a077-482c-8787-76257b98db8f', 'runId': '04edde25-e713-41ae-852c-bde3ae79f0ce', 'name': None, 'timestamp': '2025-01-16T17:02:11.108Z', 'batchId': 142, 'numInputRows': 7, 'inputRowsPerSecond': 1.0018605982539002, 'processedRowsPerSecond': 0.9217803529101922, 'durationMs': {'addBatch': 5116, 'commitOffsets': 1173, 'getBatch': 0, 'latestOffset': 122, 'queryPlanning': 5, 'triggerExecution': 7594, 'walCommit': 1176}, 'stateOperators': [], 'sources': [{'description': 'KafkaV2[Subscribe[iot-temperature]]', 'startOffset': {'iot-temperature': {'8': 355, '11': 365, '2': 381, '5': 407, '14': 401, '13': 360, '4': 380, '7': 364, '1': 361, '10': 372, '9': 367, '3': 390, '12': 417, '6': 379, '0': 367}}, 'endOffset': {'iot-temperature': {'8': 355, '11': 365, '2': 381, '5': 409, '14': 401, '13': 361, '4': 381, '7': 365, '1': 361, '10': 373, '9': 367, '3': 390, '12': 418, '6': 379, '0': 367}}, 'latestOffset': {'iot-temperature': {'8': 355, '11': 365, '2': 381, '5': 409, '14': 401, '13': 361, '4': 381, '7': 365, '1': 361, '10': 373, '9': 367, '3': 390, '12': 418, '6': 379, '0': 367}}, 'numInputRows': 7, 'inputRowsPerSecond': 1.0018605982539002, 'processedRowsPerSecond': 0.9217803529101922, 'metrics': {'avgOffsetsBehindLatest': '0.0', 'maxOffsetsBehindLatest': '0', 'minOffsetsBehindLatest': '0'}}], 'sink': {'description': 'DeltaSink[s3a://lakehouse/delta/raw_iot_data]', 'numOutputRows': -1}}\n",
      "{'id': 'c4c5e95a-a077-482c-8787-76257b98db8f', 'runId': '04edde25-e713-41ae-852c-bde3ae79f0ce', 'name': None, 'timestamp': '2025-01-16T17:02:18.703Z', 'batchId': 143, 'numInputRows': 8, 'inputRowsPerSecond': 1.0533245556287032, 'processedRowsPerSecond': 1.2148823082763858, 'durationMs': {'addBatch': 3974, 'commitOffsets': 1145, 'getBatch': 0, 'latestOffset': 106, 'queryPlanning': 4, 'triggerExecution': 6585, 'walCommit': 1356}, 'stateOperators': [], 'sources': [{'description': 'KafkaV2[Subscribe[iot-temperature]]', 'startOffset': {'iot-temperature': {'8': 355, '11': 365, '2': 381, '5': 409, '14': 401, '13': 361, '4': 381, '7': 365, '1': 361, '10': 373, '9': 367, '3': 390, '12': 418, '6': 379, '0': 367}}, 'endOffset': {'iot-temperature': {'8': 355, '11': 365, '2': 382, '5': 411, '14': 401, '13': 362, '4': 381, '7': 366, '1': 363, '10': 373, '9': 367, '3': 390, '12': 419, '6': 379, '0': 367}}, 'latestOffset': {'iot-temperature': {'8': 355, '11': 365, '2': 382, '5': 411, '14': 401, '13': 362, '4': 381, '7': 366, '1': 363, '10': 373, '9': 367, '3': 390, '12': 419, '6': 379, '0': 367}}, 'numInputRows': 8, 'inputRowsPerSecond': 1.0533245556287032, 'processedRowsPerSecond': 1.2148823082763858, 'metrics': {'avgOffsetsBehindLatest': '0.0', 'maxOffsetsBehindLatest': '0', 'minOffsetsBehindLatest': '0'}}], 'sink': {'description': 'DeltaSink[s3a://lakehouse/delta/raw_iot_data]', 'numOutputRows': -1}}\n"
     ]
    },
    {
     "name": "stderr",
     "output_type": "stream",
     "text": [
      "                                                                                \r"
     ]
    },
    {
     "name": "stdout",
     "output_type": "stream",
     "text": [
      "{'id': 'c4c5e95a-a077-482c-8787-76257b98db8f', 'runId': '04edde25-e713-41ae-852c-bde3ae79f0ce', 'name': None, 'timestamp': '2025-01-16T17:02:25.289Z', 'batchId': 144, 'numInputRows': 6, 'inputRowsPerSecond': 0.9110233829334953, 'processedRowsPerSecond': 0.892325996430696, 'durationMs': {'addBatch': 4411, 'commitOffsets': 1115, 'getBatch': 1, 'latestOffset': 100, 'queryPlanning': 3, 'triggerExecution': 6724, 'walCommit': 1094}, 'stateOperators': [], 'sources': [{'description': 'KafkaV2[Subscribe[iot-temperature]]', 'startOffset': {'iot-temperature': {'8': 355, '11': 365, '2': 382, '5': 411, '14': 401, '13': 362, '4': 381, '7': 366, '1': 363, '10': 373, '9': 367, '3': 390, '12': 419, '6': 379, '0': 367}}, 'endOffset': {'iot-temperature': {'8': 355, '11': 367, '2': 382, '5': 411, '14': 401, '13': 362, '4': 381, '7': 366, '1': 364, '10': 374, '9': 367, '3': 390, '12': 420, '6': 380, '0': 367}}, 'latestOffset': {'iot-temperature': {'8': 355, '11': 367, '2': 382, '5': 411, '14': 401, '13': 362, '4': 381, '7': 366, '1': 364, '10': 374, '9': 367, '3': 390, '12': 420, '6': 380, '0': 367}}, 'numInputRows': 6, 'inputRowsPerSecond': 0.9110233829334953, 'processedRowsPerSecond': 0.892325996430696, 'metrics': {'avgOffsetsBehindLatest': '0.0', 'maxOffsetsBehindLatest': '0', 'minOffsetsBehindLatest': '0'}}], 'sink': {'description': 'DeltaSink[s3a://lakehouse/delta/raw_iot_data]', 'numOutputRows': -1}}\n"
     ]
    },
    {
     "name": "stderr",
     "output_type": "stream",
     "text": [
      "                                                                                \r"
     ]
    },
    {
     "name": "stdout",
     "output_type": "stream",
     "text": [
      "{'id': 'c4c5e95a-a077-482c-8787-76257b98db8f', 'runId': '04edde25-e713-41ae-852c-bde3ae79f0ce', 'name': None, 'timestamp': '2025-01-16T17:02:25.289Z', 'batchId': 144, 'numInputRows': 6, 'inputRowsPerSecond': 0.9110233829334953, 'processedRowsPerSecond': 0.892325996430696, 'durationMs': {'addBatch': 4411, 'commitOffsets': 1115, 'getBatch': 1, 'latestOffset': 100, 'queryPlanning': 3, 'triggerExecution': 6724, 'walCommit': 1094}, 'stateOperators': [], 'sources': [{'description': 'KafkaV2[Subscribe[iot-temperature]]', 'startOffset': {'iot-temperature': {'8': 355, '11': 365, '2': 382, '5': 411, '14': 401, '13': 362, '4': 381, '7': 366, '1': 363, '10': 373, '9': 367, '3': 390, '12': 419, '6': 379, '0': 367}}, 'endOffset': {'iot-temperature': {'8': 355, '11': 367, '2': 382, '5': 411, '14': 401, '13': 362, '4': 381, '7': 366, '1': 364, '10': 374, '9': 367, '3': 390, '12': 420, '6': 380, '0': 367}}, 'latestOffset': {'iot-temperature': {'8': 355, '11': 367, '2': 382, '5': 411, '14': 401, '13': 362, '4': 381, '7': 366, '1': 364, '10': 374, '9': 367, '3': 390, '12': 420, '6': 380, '0': 367}}, 'numInputRows': 6, 'inputRowsPerSecond': 0.9110233829334953, 'processedRowsPerSecond': 0.892325996430696, 'metrics': {'avgOffsetsBehindLatest': '0.0', 'maxOffsetsBehindLatest': '0', 'minOffsetsBehindLatest': '0'}}], 'sink': {'description': 'DeltaSink[s3a://lakehouse/delta/raw_iot_data]', 'numOutputRows': -1}}\n"
     ]
    },
    {
     "name": "stderr",
     "output_type": "stream",
     "text": [
      "                                                                                \r"
     ]
    },
    {
     "name": "stdout",
     "output_type": "stream",
     "text": [
      "{'id': 'c4c5e95a-a077-482c-8787-76257b98db8f', 'runId': '04edde25-e713-41ae-852c-bde3ae79f0ce', 'name': None, 'timestamp': '2025-01-16T17:02:32.014Z', 'batchId': 145, 'numInputRows': 7, 'inputRowsPerSecond': 1.0408921933085502, 'processedRowsPerSecond': 1.0626992561105209, 'durationMs': {'addBatch': 4048, 'commitOffsets': 1297, 'getBatch': 0, 'latestOffset': 100, 'queryPlanning': 11, 'triggerExecution': 6587, 'walCommit': 1130}, 'stateOperators': [], 'sources': [{'description': 'KafkaV2[Subscribe[iot-temperature]]', 'startOffset': {'iot-temperature': {'8': 355, '11': 367, '2': 382, '5': 411, '14': 401, '13': 362, '4': 381, '7': 366, '1': 364, '10': 374, '9': 367, '3': 390, '12': 420, '6': 380, '0': 367}}, 'endOffset': {'iot-temperature': {'8': 356, '11': 367, '2': 383, '5': 411, '14': 402, '13': 362, '4': 381, '7': 366, '1': 364, '10': 374, '9': 368, '3': 392, '12': 420, '6': 381, '0': 367}}, 'latestOffset': {'iot-temperature': {'8': 356, '11': 367, '2': 383, '5': 411, '14': 402, '13': 362, '4': 381, '7': 366, '1': 364, '10': 374, '9': 368, '3': 392, '12': 420, '6': 381, '0': 367}}, 'numInputRows': 7, 'inputRowsPerSecond': 1.0408921933085502, 'processedRowsPerSecond': 1.0626992561105209, 'metrics': {'avgOffsetsBehindLatest': '0.0', 'maxOffsetsBehindLatest': '0', 'minOffsetsBehindLatest': '0'}}], 'sink': {'description': 'DeltaSink[s3a://lakehouse/delta/raw_iot_data]', 'numOutputRows': -1}}\n",
      "{'id': 'c4c5e95a-a077-482c-8787-76257b98db8f', 'runId': '04edde25-e713-41ae-852c-bde3ae79f0ce', 'name': None, 'timestamp': '2025-01-16T17:02:38.602Z', 'batchId': 146, 'numInputRows': 7, 'inputRowsPerSecond': 1.0625379477838495, 'processedRowsPerSecond': 1.018181818181818, 'durationMs': {'addBatch': 4337, 'commitOffsets': 1187, 'getBatch': 0, 'latestOffset': 122, 'queryPlanning': 15, 'triggerExecution': 6875, 'walCommit': 1211}, 'stateOperators': [], 'sources': [{'description': 'KafkaV2[Subscribe[iot-temperature]]', 'startOffset': {'iot-temperature': {'8': 356, '11': 367, '2': 383, '5': 411, '14': 402, '13': 362, '4': 381, '7': 366, '1': 364, '10': 374, '9': 368, '3': 392, '12': 420, '6': 381, '0': 367}}, 'endOffset': {'iot-temperature': {'8': 356, '11': 368, '2': 383, '5': 411, '14': 403, '13': 363, '4': 381, '7': 366, '1': 364, '10': 374, '9': 368, '3': 393, '12': 422, '6': 382, '0': 367}}, 'latestOffset': {'iot-temperature': {'8': 356, '11': 368, '2': 383, '5': 411, '14': 403, '13': 363, '4': 381, '7': 366, '1': 364, '10': 374, '9': 368, '3': 393, '12': 422, '6': 382, '0': 367}}, 'numInputRows': 7, 'inputRowsPerSecond': 1.0625379477838495, 'processedRowsPerSecond': 1.018181818181818, 'metrics': {'avgOffsetsBehindLatest': '0.0', 'maxOffsetsBehindLatest': '0', 'minOffsetsBehindLatest': '0'}}], 'sink': {'description': 'DeltaSink[s3a://lakehouse/delta/raw_iot_data]', 'numOutputRows': -1}}\n"
     ]
    },
    {
     "name": "stderr",
     "output_type": "stream",
     "text": [
      "                                                                                \r"
     ]
    },
    {
     "name": "stdout",
     "output_type": "stream",
     "text": [
      "{'id': 'c4c5e95a-a077-482c-8787-76257b98db8f', 'runId': '04edde25-e713-41ae-852c-bde3ae79f0ce', 'name': None, 'timestamp': '2025-01-16T17:02:45.478Z', 'batchId': 147, 'numInputRows': 6, 'inputRowsPerSecond': 0.8726003490401396, 'processedRowsPerSecond': 0.8888888888888888, 'durationMs': {'addBatch': 4269, 'commitOffsets': 1108, 'getBatch': 0, 'latestOffset': 124, 'queryPlanning': 4, 'triggerExecution': 6750, 'walCommit': 1243}, 'stateOperators': [], 'sources': [{'description': 'KafkaV2[Subscribe[iot-temperature]]', 'startOffset': {'iot-temperature': {'8': 356, '11': 368, '2': 383, '5': 411, '14': 403, '13': 363, '4': 381, '7': 366, '1': 364, '10': 374, '9': 368, '3': 393, '12': 422, '6': 382, '0': 367}}, 'endOffset': {'iot-temperature': {'8': 357, '11': 369, '2': 384, '5': 411, '14': 404, '13': 363, '4': 381, '7': 366, '1': 364, '10': 374, '9': 369, '3': 393, '12': 422, '6': 383, '0': 367}}, 'latestOffset': {'iot-temperature': {'8': 357, '11': 369, '2': 384, '5': 411, '14': 404, '13': 363, '4': 381, '7': 366, '1': 364, '10': 374, '9': 369, '3': 393, '12': 422, '6': 383, '0': 367}}, 'numInputRows': 6, 'inputRowsPerSecond': 0.8726003490401396, 'processedRowsPerSecond': 0.8888888888888888, 'metrics': {'avgOffsetsBehindLatest': '0.0', 'maxOffsetsBehindLatest': '0', 'minOffsetsBehindLatest': '0'}}], 'sink': {'description': 'DeltaSink[s3a://lakehouse/delta/raw_iot_data]', 'numOutputRows': -1}}\n"
     ]
    },
    {
     "name": "stderr",
     "output_type": "stream",
     "text": [
      "                                                                                \r"
     ]
    },
    {
     "name": "stdout",
     "output_type": "stream",
     "text": [
      "{'id': 'c4c5e95a-a077-482c-8787-76257b98db8f', 'runId': '04edde25-e713-41ae-852c-bde3ae79f0ce', 'name': None, 'timestamp': '2025-01-16T17:02:45.478Z', 'batchId': 147, 'numInputRows': 6, 'inputRowsPerSecond': 0.8726003490401396, 'processedRowsPerSecond': 0.8888888888888888, 'durationMs': {'addBatch': 4269, 'commitOffsets': 1108, 'getBatch': 0, 'latestOffset': 124, 'queryPlanning': 4, 'triggerExecution': 6750, 'walCommit': 1243}, 'stateOperators': [], 'sources': [{'description': 'KafkaV2[Subscribe[iot-temperature]]', 'startOffset': {'iot-temperature': {'8': 356, '11': 368, '2': 383, '5': 411, '14': 403, '13': 363, '4': 381, '7': 366, '1': 364, '10': 374, '9': 368, '3': 393, '12': 422, '6': 382, '0': 367}}, 'endOffset': {'iot-temperature': {'8': 357, '11': 369, '2': 384, '5': 411, '14': 404, '13': 363, '4': 381, '7': 366, '1': 364, '10': 374, '9': 369, '3': 393, '12': 422, '6': 383, '0': 367}}, 'latestOffset': {'iot-temperature': {'8': 357, '11': 369, '2': 384, '5': 411, '14': 404, '13': 363, '4': 381, '7': 366, '1': 364, '10': 374, '9': 369, '3': 393, '12': 422, '6': 383, '0': 367}}, 'numInputRows': 6, 'inputRowsPerSecond': 0.8726003490401396, 'processedRowsPerSecond': 0.8888888888888888, 'metrics': {'avgOffsetsBehindLatest': '0.0', 'maxOffsetsBehindLatest': '0', 'minOffsetsBehindLatest': '0'}}], 'sink': {'description': 'DeltaSink[s3a://lakehouse/delta/raw_iot_data]', 'numOutputRows': -1}}\n"
     ]
    },
    {
     "name": "stderr",
     "output_type": "stream",
     "text": [
      "[Stage 702:>                                                        (0 + 4) / 4]\r"
     ]
    },
    {
     "name": "stdout",
     "output_type": "stream",
     "text": [
      "{'id': 'c4c5e95a-a077-482c-8787-76257b98db8f', 'runId': '04edde25-e713-41ae-852c-bde3ae79f0ce', 'name': None, 'timestamp': '2025-01-16T17:02:52.228Z', 'batchId': 148, 'numInputRows': 7, 'inputRowsPerSecond': 1.037037037037037, 'processedRowsPerSecond': 1.0342789598108748, 'durationMs': {'addBatch': 4369, 'commitOffsets': 1160, 'getBatch': 0, 'latestOffset': 103, 'queryPlanning': 4, 'triggerExecution': 6768, 'walCommit': 1132}, 'stateOperators': [], 'sources': [{'description': 'KafkaV2[Subscribe[iot-temperature]]', 'startOffset': {'iot-temperature': {'8': 357, '11': 369, '2': 384, '5': 411, '14': 404, '13': 363, '4': 381, '7': 366, '1': 364, '10': 374, '9': 369, '3': 393, '12': 422, '6': 383, '0': 367}}, 'endOffset': {'iot-temperature': {'8': 357, '11': 371, '2': 384, '5': 412, '14': 404, '13': 363, '4': 381, '7': 366, '1': 364, '10': 376, '9': 369, '3': 393, '12': 422, '6': 384, '0': 368}}, 'latestOffset': {'iot-temperature': {'8': 357, '11': 371, '2': 384, '5': 412, '14': 404, '13': 363, '4': 381, '7': 366, '1': 364, '10': 376, '9': 369, '3': 393, '12': 422, '6': 384, '0': 368}}, 'numInputRows': 7, 'inputRowsPerSecond': 1.037037037037037, 'processedRowsPerSecond': 1.0342789598108748, 'metrics': {'avgOffsetsBehindLatest': '0.0', 'maxOffsetsBehindLatest': '0', 'minOffsetsBehindLatest': '0'}}], 'sink': {'description': 'DeltaSink[s3a://lakehouse/delta/raw_iot_data]', 'numOutputRows': -1}}\n"
     ]
    },
    {
     "name": "stderr",
     "output_type": "stream",
     "text": [
      "                                                                                \r"
     ]
    },
    {
     "name": "stdout",
     "output_type": "stream",
     "text": [
      "{'id': 'c4c5e95a-a077-482c-8787-76257b98db8f', 'runId': '04edde25-e713-41ae-852c-bde3ae79f0ce', 'name': None, 'timestamp': '2025-01-16T17:02:52.228Z', 'batchId': 148, 'numInputRows': 7, 'inputRowsPerSecond': 1.037037037037037, 'processedRowsPerSecond': 1.0342789598108748, 'durationMs': {'addBatch': 4369, 'commitOffsets': 1160, 'getBatch': 0, 'latestOffset': 103, 'queryPlanning': 4, 'triggerExecution': 6768, 'walCommit': 1132}, 'stateOperators': [], 'sources': [{'description': 'KafkaV2[Subscribe[iot-temperature]]', 'startOffset': {'iot-temperature': {'8': 357, '11': 369, '2': 384, '5': 411, '14': 404, '13': 363, '4': 381, '7': 366, '1': 364, '10': 374, '9': 369, '3': 393, '12': 422, '6': 383, '0': 367}}, 'endOffset': {'iot-temperature': {'8': 357, '11': 371, '2': 384, '5': 412, '14': 404, '13': 363, '4': 381, '7': 366, '1': 364, '10': 376, '9': 369, '3': 393, '12': 422, '6': 384, '0': 368}}, 'latestOffset': {'iot-temperature': {'8': 357, '11': 371, '2': 384, '5': 412, '14': 404, '13': 363, '4': 381, '7': 366, '1': 364, '10': 376, '9': 369, '3': 393, '12': 422, '6': 384, '0': 368}}, 'numInputRows': 7, 'inputRowsPerSecond': 1.037037037037037, 'processedRowsPerSecond': 1.0342789598108748, 'metrics': {'avgOffsetsBehindLatest': '0.0', 'maxOffsetsBehindLatest': '0', 'minOffsetsBehindLatest': '0'}}], 'sink': {'description': 'DeltaSink[s3a://lakehouse/delta/raw_iot_data]', 'numOutputRows': -1}}\n"
     ]
    },
    {
     "name": "stderr",
     "output_type": "stream",
     "text": [
      "                                                                                \r"
     ]
    },
    {
     "name": "stdout",
     "output_type": "stream",
     "text": [
      "{'id': 'c4c5e95a-a077-482c-8787-76257b98db8f', 'runId': '04edde25-e713-41ae-852c-bde3ae79f0ce', 'name': None, 'timestamp': '2025-01-16T17:02:58.998Z', 'batchId': 149, 'numInputRows': 7, 'inputRowsPerSecond': 1.0339734121122601, 'processedRowsPerSecond': 0.7626103061335657, 'durationMs': {'addBatch': 6639, 'commitOffsets': 1246, 'getBatch': 0, 'latestOffset': 103, 'queryPlanning': 3, 'triggerExecution': 9179, 'walCommit': 1187}, 'stateOperators': [], 'sources': [{'description': 'KafkaV2[Subscribe[iot-temperature]]', 'startOffset': {'iot-temperature': {'8': 357, '11': 371, '2': 384, '5': 412, '14': 404, '13': 363, '4': 381, '7': 366, '1': 364, '10': 376, '9': 369, '3': 393, '12': 422, '6': 384, '0': 368}}, 'endOffset': {'iot-temperature': {'8': 360, '11': 371, '2': 384, '5': 412, '14': 405, '13': 363, '4': 381, '7': 366, '1': 365, '10': 378, '9': 369, '3': 393, '12': 422, '6': 384, '0': 368}}, 'latestOffset': {'iot-temperature': {'8': 360, '11': 371, '2': 384, '5': 412, '14': 405, '13': 363, '4': 381, '7': 366, '1': 365, '10': 378, '9': 369, '3': 393, '12': 422, '6': 384, '0': 368}}, 'numInputRows': 7, 'inputRowsPerSecond': 1.0339734121122601, 'processedRowsPerSecond': 0.7626103061335657, 'metrics': {'avgOffsetsBehindLatest': '0.0', 'maxOffsetsBehindLatest': '0', 'minOffsetsBehindLatest': '0'}}], 'sink': {'description': 'DeltaSink[s3a://lakehouse/delta/raw_iot_data]', 'numOutputRows': -1}}\n",
      "{'id': 'c4c5e95a-a077-482c-8787-76257b98db8f', 'runId': '04edde25-e713-41ae-852c-bde3ae79f0ce', 'name': None, 'timestamp': '2025-01-16T17:03:08.178Z', 'batchId': 150, 'numInputRows': 9, 'inputRowsPerSecond': 0.9803921568627452, 'processedRowsPerSecond': 1.4460154241645244, 'durationMs': {'addBatch': 3862, 'commitOffsets': 1059, 'getBatch': 0, 'latestOffset': 109, 'queryPlanning': 5, 'triggerExecution': 6224, 'walCommit': 1187}, 'stateOperators': [], 'sources': [{'description': 'KafkaV2[Subscribe[iot-temperature]]', 'startOffset': {'iot-temperature': {'8': 360, '11': 371, '2': 384, '5': 412, '14': 405, '13': 363, '4': 381, '7': 366, '1': 365, '10': 378, '9': 369, '3': 393, '12': 422, '6': 384, '0': 368}}, 'endOffset': {'iot-temperature': {'8': 361, '11': 371, '2': 384, '5': 416, '14': 405, '13': 363, '4': 382, '7': 366, '1': 365, '10': 378, '9': 369, '3': 393, '12': 423, '6': 384, '0': 370}}, 'latestOffset': {'iot-temperature': {'8': 361, '11': 371, '2': 384, '5': 416, '14': 405, '13': 363, '4': 382, '7': 366, '1': 365, '10': 378, '9': 369, '3': 393, '12': 423, '6': 384, '0': 370}}, 'numInputRows': 9, 'inputRowsPerSecond': 0.9803921568627452, 'processedRowsPerSecond': 1.4460154241645244, 'metrics': {'avgOffsetsBehindLatest': '0.0', 'maxOffsetsBehindLatest': '0', 'minOffsetsBehindLatest': '0'}}], 'sink': {'description': 'DeltaSink[s3a://lakehouse/delta/raw_iot_data]', 'numOutputRows': -1}}\n"
     ]
    },
    {
     "name": "stderr",
     "output_type": "stream",
     "text": [
      "                                                                                \r"
     ]
    },
    {
     "name": "stdout",
     "output_type": "stream",
     "text": [
      "{'id': 'c4c5e95a-a077-482c-8787-76257b98db8f', 'runId': '04edde25-e713-41ae-852c-bde3ae79f0ce', 'name': None, 'timestamp': '2025-01-16T17:03:14.402Z', 'batchId': 151, 'numInputRows': 6, 'inputRowsPerSecond': 0.9640102827763496, 'processedRowsPerSecond': 0.9067553271875473, 'durationMs': {'addBatch': 4265, 'commitOffsets': 1086, 'getBatch': 0, 'latestOffset': 103, 'queryPlanning': 5, 'triggerExecution': 6617, 'walCommit': 1158}, 'stateOperators': [], 'sources': [{'description': 'KafkaV2[Subscribe[iot-temperature]]', 'startOffset': {'iot-temperature': {'8': 361, '11': 371, '2': 384, '5': 416, '14': 405, '13': 363, '4': 382, '7': 366, '1': 365, '10': 378, '9': 369, '3': 393, '12': 423, '6': 384, '0': 370}}, 'endOffset': {'iot-temperature': {'8': 362, '11': 371, '2': 384, '5': 416, '14': 406, '13': 364, '4': 382, '7': 366, '1': 366, '10': 378, '9': 369, '3': 393, '12': 424, '6': 384, '0': 371}}, 'latestOffset': {'iot-temperature': {'8': 362, '11': 371, '2': 384, '5': 416, '14': 406, '13': 364, '4': 382, '7': 366, '1': 366, '10': 378, '9': 369, '3': 393, '12': 424, '6': 384, '0': 371}}, 'numInputRows': 6, 'inputRowsPerSecond': 0.9640102827763496, 'processedRowsPerSecond': 0.9067553271875473, 'metrics': {'avgOffsetsBehindLatest': '0.0', 'maxOffsetsBehindLatest': '0', 'minOffsetsBehindLatest': '0'}}], 'sink': {'description': 'DeltaSink[s3a://lakehouse/delta/raw_iot_data]', 'numOutputRows': -1}}\n"
     ]
    },
    {
     "name": "stderr",
     "output_type": "stream",
     "text": [
      "                                                                                \r"
     ]
    },
    {
     "name": "stdout",
     "output_type": "stream",
     "text": [
      "{'id': 'c4c5e95a-a077-482c-8787-76257b98db8f', 'runId': '04edde25-e713-41ae-852c-bde3ae79f0ce', 'name': None, 'timestamp': '2025-01-16T17:03:14.402Z', 'batchId': 151, 'numInputRows': 6, 'inputRowsPerSecond': 0.9640102827763496, 'processedRowsPerSecond': 0.9067553271875473, 'durationMs': {'addBatch': 4265, 'commitOffsets': 1086, 'getBatch': 0, 'latestOffset': 103, 'queryPlanning': 5, 'triggerExecution': 6617, 'walCommit': 1158}, 'stateOperators': [], 'sources': [{'description': 'KafkaV2[Subscribe[iot-temperature]]', 'startOffset': {'iot-temperature': {'8': 361, '11': 371, '2': 384, '5': 416, '14': 405, '13': 363, '4': 382, '7': 366, '1': 365, '10': 378, '9': 369, '3': 393, '12': 423, '6': 384, '0': 370}}, 'endOffset': {'iot-temperature': {'8': 362, '11': 371, '2': 384, '5': 416, '14': 406, '13': 364, '4': 382, '7': 366, '1': 366, '10': 378, '9': 369, '3': 393, '12': 424, '6': 384, '0': 371}}, 'latestOffset': {'iot-temperature': {'8': 362, '11': 371, '2': 384, '5': 416, '14': 406, '13': 364, '4': 382, '7': 366, '1': 366, '10': 378, '9': 369, '3': 393, '12': 424, '6': 384, '0': 371}}, 'numInputRows': 6, 'inputRowsPerSecond': 0.9640102827763496, 'processedRowsPerSecond': 0.9067553271875473, 'metrics': {'avgOffsetsBehindLatest': '0.0', 'maxOffsetsBehindLatest': '0', 'minOffsetsBehindLatest': '0'}}], 'sink': {'description': 'DeltaSink[s3a://lakehouse/delta/raw_iot_data]', 'numOutputRows': -1}}\n"
     ]
    },
    {
     "name": "stderr",
     "output_type": "stream",
     "text": [
      "                                                                                \r"
     ]
    },
    {
     "name": "stdout",
     "output_type": "stream",
     "text": [
      "{'id': 'c4c5e95a-a077-482c-8787-76257b98db8f', 'runId': '04edde25-e713-41ae-852c-bde3ae79f0ce', 'name': None, 'timestamp': '2025-01-16T17:03:21.019Z', 'batchId': 152, 'numInputRows': 7, 'inputRowsPerSecond': 1.0578812150521384, 'processedRowsPerSecond': 1.0656112041406607, 'durationMs': {'addBatch': 4161, 'commitOffsets': 1126, 'getBatch': 0, 'latestOffset': 97, 'queryPlanning': 8, 'triggerExecution': 6569, 'walCommit': 1177}, 'stateOperators': [], 'sources': [{'description': 'KafkaV2[Subscribe[iot-temperature]]', 'startOffset': {'iot-temperature': {'8': 362, '11': 371, '2': 384, '5': 416, '14': 406, '13': 364, '4': 382, '7': 366, '1': 366, '10': 378, '9': 369, '3': 393, '12': 424, '6': 384, '0': 371}}, 'endOffset': {'iot-temperature': {'8': 364, '11': 372, '2': 384, '5': 416, '14': 406, '13': 364, '4': 383, '7': 368, '1': 366, '10': 378, '9': 370, '3': 393, '12': 424, '6': 384, '0': 371}}, 'latestOffset': {'iot-temperature': {'8': 364, '11': 372, '2': 384, '5': 416, '14': 406, '13': 364, '4': 383, '7': 368, '1': 366, '10': 378, '9': 370, '3': 393, '12': 424, '6': 384, '0': 371}}, 'numInputRows': 7, 'inputRowsPerSecond': 1.0578812150521384, 'processedRowsPerSecond': 1.0656112041406607, 'metrics': {'avgOffsetsBehindLatest': '0.0', 'maxOffsetsBehindLatest': '0', 'minOffsetsBehindLatest': '0'}}], 'sink': {'description': 'DeltaSink[s3a://lakehouse/delta/raw_iot_data]', 'numOutputRows': -1}}\n",
      "{'id': 'c4c5e95a-a077-482c-8787-76257b98db8f', 'runId': '04edde25-e713-41ae-852c-bde3ae79f0ce', 'name': None, 'timestamp': '2025-01-16T17:03:27.588Z', 'batchId': 153, 'numInputRows': 7, 'inputRowsPerSecond': 1.0656112041406607, 'processedRowsPerSecond': 1.038883941822499, 'durationMs': {'addBatch': 4019, 'commitOffsets': 1159, 'getBatch': 0, 'latestOffset': 103, 'queryPlanning': 5, 'triggerExecution': 6738, 'walCommit': 1450}, 'stateOperators': [], 'sources': [{'description': 'KafkaV2[Subscribe[iot-temperature]]', 'startOffset': {'iot-temperature': {'8': 364, '11': 372, '2': 384, '5': 416, '14': 406, '13': 364, '4': 383, '7': 368, '1': 366, '10': 378, '9': 370, '3': 393, '12': 424, '6': 384, '0': 371}}, 'endOffset': {'iot-temperature': {'8': 365, '11': 372, '2': 384, '5': 416, '14': 406, '13': 364, '4': 384, '7': 368, '1': 366, '10': 379, '9': 371, '3': 393, '12': 425, '6': 386, '0': 371}}, 'latestOffset': {'iot-temperature': {'8': 365, '11': 372, '2': 384, '5': 416, '14': 406, '13': 364, '4': 384, '7': 368, '1': 366, '10': 379, '9': 371, '3': 393, '12': 425, '6': 386, '0': 371}}, 'numInputRows': 7, 'inputRowsPerSecond': 1.0656112041406607, 'processedRowsPerSecond': 1.038883941822499, 'metrics': {'avgOffsetsBehindLatest': '0.0', 'maxOffsetsBehindLatest': '0', 'minOffsetsBehindLatest': '0'}}], 'sink': {'description': 'DeltaSink[s3a://lakehouse/delta/raw_iot_data]', 'numOutputRows': -1}}\n"
     ]
    },
    {
     "name": "stderr",
     "output_type": "stream",
     "text": [
      "                                                                                \r"
     ]
    },
    {
     "name": "stdout",
     "output_type": "stream",
     "text": [
      "{'id': 'c4c5e95a-a077-482c-8787-76257b98db8f', 'runId': '04edde25-e713-41ae-852c-bde3ae79f0ce', 'name': None, 'timestamp': '2025-01-16T17:03:34.328Z', 'batchId': 154, 'numInputRows': 6, 'inputRowsPerSecond': 0.8902077151335311, 'processedRowsPerSecond': 0.8940545373267769, 'durationMs': {'addBatch': 4286, 'commitOffsets': 1073, 'getBatch': 0, 'latestOffset': 114, 'queryPlanning': 3, 'triggerExecution': 6711, 'walCommit': 1233}, 'stateOperators': [], 'sources': [{'description': 'KafkaV2[Subscribe[iot-temperature]]', 'startOffset': {'iot-temperature': {'8': 365, '11': 372, '2': 384, '5': 416, '14': 406, '13': 364, '4': 384, '7': 368, '1': 366, '10': 379, '9': 371, '3': 393, '12': 425, '6': 386, '0': 371}}, 'endOffset': {'iot-temperature': {'8': 365, '11': 372, '2': 384, '5': 417, '14': 406, '13': 364, '4': 384, '7': 369, '1': 366, '10': 379, '9': 371, '3': 395, '12': 426, '6': 387, '0': 371}}, 'latestOffset': {'iot-temperature': {'8': 365, '11': 372, '2': 384, '5': 417, '14': 406, '13': 364, '4': 384, '7': 369, '1': 366, '10': 379, '9': 371, '3': 395, '12': 426, '6': 387, '0': 371}}, 'numInputRows': 6, 'inputRowsPerSecond': 0.8902077151335311, 'processedRowsPerSecond': 0.8940545373267769, 'metrics': {'avgOffsetsBehindLatest': '0.0', 'maxOffsetsBehindLatest': '0', 'minOffsetsBehindLatest': '0'}}], 'sink': {'description': 'DeltaSink[s3a://lakehouse/delta/raw_iot_data]', 'numOutputRows': -1}}\n"
     ]
    },
    {
     "name": "stderr",
     "output_type": "stream",
     "text": [
      "                                                                                \r"
     ]
    },
    {
     "name": "stdout",
     "output_type": "stream",
     "text": [
      "{'id': 'c4c5e95a-a077-482c-8787-76257b98db8f', 'runId': '04edde25-e713-41ae-852c-bde3ae79f0ce', 'name': None, 'timestamp': '2025-01-16T17:03:34.328Z', 'batchId': 154, 'numInputRows': 6, 'inputRowsPerSecond': 0.8902077151335311, 'processedRowsPerSecond': 0.8940545373267769, 'durationMs': {'addBatch': 4286, 'commitOffsets': 1073, 'getBatch': 0, 'latestOffset': 114, 'queryPlanning': 3, 'triggerExecution': 6711, 'walCommit': 1233}, 'stateOperators': [], 'sources': [{'description': 'KafkaV2[Subscribe[iot-temperature]]', 'startOffset': {'iot-temperature': {'8': 365, '11': 372, '2': 384, '5': 416, '14': 406, '13': 364, '4': 384, '7': 368, '1': 366, '10': 379, '9': 371, '3': 393, '12': 425, '6': 386, '0': 371}}, 'endOffset': {'iot-temperature': {'8': 365, '11': 372, '2': 384, '5': 417, '14': 406, '13': 364, '4': 384, '7': 369, '1': 366, '10': 379, '9': 371, '3': 395, '12': 426, '6': 387, '0': 371}}, 'latestOffset': {'iot-temperature': {'8': 365, '11': 372, '2': 384, '5': 417, '14': 406, '13': 364, '4': 384, '7': 369, '1': 366, '10': 379, '9': 371, '3': 395, '12': 426, '6': 387, '0': 371}}, 'numInputRows': 6, 'inputRowsPerSecond': 0.8902077151335311, 'processedRowsPerSecond': 0.8940545373267769, 'metrics': {'avgOffsetsBehindLatest': '0.0', 'maxOffsetsBehindLatest': '0', 'minOffsetsBehindLatest': '0'}}], 'sink': {'description': 'DeltaSink[s3a://lakehouse/delta/raw_iot_data]', 'numOutputRows': -1}}\n"
     ]
    },
    {
     "name": "stderr",
     "output_type": "stream",
     "text": [
      "                                                                                \r"
     ]
    },
    {
     "name": "stdout",
     "output_type": "stream",
     "text": [
      "{'id': 'c4c5e95a-a077-482c-8787-76257b98db8f', 'runId': '04edde25-e713-41ae-852c-bde3ae79f0ce', 'name': None, 'timestamp': '2025-01-16T17:03:41.041Z', 'batchId': 155, 'numInputRows': 7, 'inputRowsPerSecond': 1.0427528675703859, 'processedRowsPerSecond': 1.0482180293501049, 'durationMs': {'addBatch': 4198, 'commitOffsets': 1289, 'getBatch': 0, 'latestOffset': 111, 'queryPlanning': 5, 'triggerExecution': 6678, 'walCommit': 1074}, 'stateOperators': [], 'sources': [{'description': 'KafkaV2[Subscribe[iot-temperature]]', 'startOffset': {'iot-temperature': {'8': 365, '11': 372, '2': 384, '5': 417, '14': 406, '13': 364, '4': 384, '7': 369, '1': 366, '10': 379, '9': 371, '3': 395, '12': 426, '6': 387, '0': 371}}, 'endOffset': {'iot-temperature': {'8': 366, '11': 372, '2': 385, '5': 417, '14': 406, '13': 364, '4': 384, '7': 370, '1': 366, '10': 379, '9': 372, '3': 395, '12': 428, '6': 388, '0': 371}}, 'latestOffset': {'iot-temperature': {'8': 366, '11': 372, '2': 385, '5': 417, '14': 406, '13': 364, '4': 384, '7': 370, '1': 366, '10': 379, '9': 372, '3': 395, '12': 428, '6': 388, '0': 371}}, 'numInputRows': 7, 'inputRowsPerSecond': 1.0427528675703859, 'processedRowsPerSecond': 1.0482180293501049, 'metrics': {'avgOffsetsBehindLatest': '0.0', 'maxOffsetsBehindLatest': '0', 'minOffsetsBehindLatest': '0'}}], 'sink': {'description': 'DeltaSink[s3a://lakehouse/delta/raw_iot_data]', 'numOutputRows': -1}}\n",
      "{'id': 'c4c5e95a-a077-482c-8787-76257b98db8f', 'runId': '04edde25-e713-41ae-852c-bde3ae79f0ce', 'name': None, 'timestamp': '2025-01-16T17:03:47.719Z', 'batchId': 156, 'numInputRows': 7, 'inputRowsPerSecond': 1.0482180293501049, 'processedRowsPerSecond': 1.047277079593058, 'durationMs': {'addBatch': 4177, 'commitOffsets': 1166, 'getBatch': 0, 'latestOffset': 101, 'queryPlanning': 4, 'triggerExecution': 6684, 'walCommit': 1235}, 'stateOperators': [], 'sources': [{'description': 'KafkaV2[Subscribe[iot-temperature]]', 'startOffset': {'iot-temperature': {'8': 366, '11': 372, '2': 385, '5': 417, '14': 406, '13': 364, '4': 384, '7': 370, '1': 366, '10': 379, '9': 372, '3': 395, '12': 428, '6': 388, '0': 371}}, 'endOffset': {'iot-temperature': {'8': 366, '11': 372, '2': 388, '5': 417, '14': 406, '13': 365, '4': 384, '7': 370, '1': 366, '10': 379, '9': 373, '3': 395, '12': 428, '6': 388, '0': 373}}, 'latestOffset': {'iot-temperature': {'8': 366, '11': 372, '2': 388, '5': 417, '14': 406, '13': 365, '4': 384, '7': 370, '1': 366, '10': 379, '9': 373, '3': 395, '12': 428, '6': 388, '0': 373}}, 'numInputRows': 7, 'inputRowsPerSecond': 1.0482180293501049, 'processedRowsPerSecond': 1.047277079593058, 'metrics': {'avgOffsetsBehindLatest': '0.0', 'maxOffsetsBehindLatest': '0', 'minOffsetsBehindLatest': '0'}}], 'sink': {'description': 'DeltaSink[s3a://lakehouse/delta/raw_iot_data]', 'numOutputRows': -1}}\n"
     ]
    },
    {
     "name": "stderr",
     "output_type": "stream",
     "text": [
      "                                                                                \r"
     ]
    },
    {
     "name": "stdout",
     "output_type": "stream",
     "text": [
      "{'id': 'c4c5e95a-a077-482c-8787-76257b98db8f', 'runId': '04edde25-e713-41ae-852c-bde3ae79f0ce', 'name': None, 'timestamp': '2025-01-16T17:03:54.403Z', 'batchId': 157, 'numInputRows': 6, 'inputRowsPerSecond': 0.8976660682226212, 'processedRowsPerSecond': 0.7921837866385002, 'durationMs': {'addBatch': 5087, 'commitOffsets': 1174, 'getBatch': 0, 'latestOffset': 108, 'queryPlanning': 4, 'triggerExecution': 7574, 'walCommit': 1201}, 'stateOperators': [], 'sources': [{'description': 'KafkaV2[Subscribe[iot-temperature]]', 'startOffset': {'iot-temperature': {'8': 366, '11': 372, '2': 388, '5': 417, '14': 406, '13': 365, '4': 384, '7': 370, '1': 366, '10': 379, '9': 373, '3': 395, '12': 428, '6': 388, '0': 373}}, 'endOffset': {'iot-temperature': {'8': 366, '11': 372, '2': 389, '5': 417, '14': 406, '13': 365, '4': 386, '7': 371, '1': 366, '10': 380, '9': 373, '3': 395, '12': 429, '6': 388, '0': 373}}, 'latestOffset': {'iot-temperature': {'8': 366, '11': 372, '2': 389, '5': 417, '14': 406, '13': 365, '4': 386, '7': 371, '1': 366, '10': 380, '9': 373, '3': 395, '12': 429, '6': 388, '0': 373}}, 'numInputRows': 6, 'inputRowsPerSecond': 0.8976660682226212, 'processedRowsPerSecond': 0.7921837866385002, 'metrics': {'avgOffsetsBehindLatest': '0.0', 'maxOffsetsBehindLatest': '0', 'minOffsetsBehindLatest': '0'}}], 'sink': {'description': 'DeltaSink[s3a://lakehouse/delta/raw_iot_data]', 'numOutputRows': -1}}\n"
     ]
    },
    {
     "name": "stderr",
     "output_type": "stream",
     "text": [
      "                                                                                \r"
     ]
    },
    {
     "name": "stdout",
     "output_type": "stream",
     "text": [
      "{'id': 'c4c5e95a-a077-482c-8787-76257b98db8f', 'runId': '04edde25-e713-41ae-852c-bde3ae79f0ce', 'name': None, 'timestamp': '2025-01-16T17:03:54.403Z', 'batchId': 157, 'numInputRows': 6, 'inputRowsPerSecond': 0.8976660682226212, 'processedRowsPerSecond': 0.7921837866385002, 'durationMs': {'addBatch': 5087, 'commitOffsets': 1174, 'getBatch': 0, 'latestOffset': 108, 'queryPlanning': 4, 'triggerExecution': 7574, 'walCommit': 1201}, 'stateOperators': [], 'sources': [{'description': 'KafkaV2[Subscribe[iot-temperature]]', 'startOffset': {'iot-temperature': {'8': 366, '11': 372, '2': 388, '5': 417, '14': 406, '13': 365, '4': 384, '7': 370, '1': 366, '10': 379, '9': 373, '3': 395, '12': 428, '6': 388, '0': 373}}, 'endOffset': {'iot-temperature': {'8': 366, '11': 372, '2': 389, '5': 417, '14': 406, '13': 365, '4': 386, '7': 371, '1': 366, '10': 380, '9': 373, '3': 395, '12': 429, '6': 388, '0': 373}}, 'latestOffset': {'iot-temperature': {'8': 366, '11': 372, '2': 389, '5': 417, '14': 406, '13': 365, '4': 386, '7': 371, '1': 366, '10': 380, '9': 373, '3': 395, '12': 429, '6': 388, '0': 373}}, 'numInputRows': 6, 'inputRowsPerSecond': 0.8976660682226212, 'processedRowsPerSecond': 0.7921837866385002, 'metrics': {'avgOffsetsBehindLatest': '0.0', 'maxOffsetsBehindLatest': '0', 'minOffsetsBehindLatest': '0'}}], 'sink': {'description': 'DeltaSink[s3a://lakehouse/delta/raw_iot_data]', 'numOutputRows': -1}}\n"
     ]
    },
    {
     "name": "stderr",
     "output_type": "stream",
     "text": [
      "[Stage 748:======================>                                  (2 + 3) / 5]\r"
     ]
    },
    {
     "name": "stdout",
     "output_type": "stream",
     "text": [
      "{'id': 'c4c5e95a-a077-482c-8787-76257b98db8f', 'runId': '04edde25-e713-41ae-852c-bde3ae79f0ce', 'name': None, 'timestamp': '2025-01-16T17:04:01.977Z', 'batchId': 158, 'numInputRows': 8, 'inputRowsPerSecond': 1.0562450488513335, 'processedRowsPerSecond': 1.1885306789481505, 'durationMs': {'addBatch': 4178, 'commitOffsets': 1287, 'getBatch': 0, 'latestOffset': 111, 'queryPlanning': 5, 'triggerExecution': 6731, 'walCommit': 1150}, 'stateOperators': [], 'sources': [{'description': 'KafkaV2[Subscribe[iot-temperature]]', 'startOffset': {'iot-temperature': {'8': 366, '11': 372, '2': 389, '5': 417, '14': 406, '13': 365, '4': 386, '7': 371, '1': 366, '10': 380, '9': 373, '3': 395, '12': 429, '6': 388, '0': 373}}, 'endOffset': {'iot-temperature': {'8': 368, '11': 372, '2': 390, '5': 418, '14': 406, '13': 366, '4': 386, '7': 371, '1': 366, '10': 380, '9': 374, '3': 396, '12': 429, '6': 389, '0': 373}}, 'latestOffset': {'iot-temperature': {'8': 368, '11': 372, '2': 390, '5': 418, '14': 406, '13': 366, '4': 386, '7': 371, '1': 366, '10': 380, '9': 374, '3': 396, '12': 429, '6': 389, '0': 373}}, 'numInputRows': 8, 'inputRowsPerSecond': 1.0562450488513335, 'processedRowsPerSecond': 1.1885306789481505, 'metrics': {'avgOffsetsBehindLatest': '0.0', 'maxOffsetsBehindLatest': '0', 'minOffsetsBehindLatest': '0'}}], 'sink': {'description': 'DeltaSink[s3a://lakehouse/delta/raw_iot_data]', 'numOutputRows': -1}}\n"
     ]
    },
    {
     "name": "stderr",
     "output_type": "stream",
     "text": [
      "                                                                                \r"
     ]
    },
    {
     "name": "stdout",
     "output_type": "stream",
     "text": [
      "{'id': 'c4c5e95a-a077-482c-8787-76257b98db8f', 'runId': '04edde25-e713-41ae-852c-bde3ae79f0ce', 'name': None, 'timestamp': '2025-01-16T17:04:01.977Z', 'batchId': 158, 'numInputRows': 8, 'inputRowsPerSecond': 1.0562450488513335, 'processedRowsPerSecond': 1.1885306789481505, 'durationMs': {'addBatch': 4178, 'commitOffsets': 1287, 'getBatch': 0, 'latestOffset': 111, 'queryPlanning': 5, 'triggerExecution': 6731, 'walCommit': 1150}, 'stateOperators': [], 'sources': [{'description': 'KafkaV2[Subscribe[iot-temperature]]', 'startOffset': {'iot-temperature': {'8': 366, '11': 372, '2': 389, '5': 417, '14': 406, '13': 365, '4': 386, '7': 371, '1': 366, '10': 380, '9': 373, '3': 395, '12': 429, '6': 388, '0': 373}}, 'endOffset': {'iot-temperature': {'8': 368, '11': 372, '2': 390, '5': 418, '14': 406, '13': 366, '4': 386, '7': 371, '1': 366, '10': 380, '9': 374, '3': 396, '12': 429, '6': 389, '0': 373}}, 'latestOffset': {'iot-temperature': {'8': 368, '11': 372, '2': 390, '5': 418, '14': 406, '13': 366, '4': 386, '7': 371, '1': 366, '10': 380, '9': 374, '3': 396, '12': 429, '6': 389, '0': 373}}, 'numInputRows': 8, 'inputRowsPerSecond': 1.0562450488513335, 'processedRowsPerSecond': 1.1885306789481505, 'metrics': {'avgOffsetsBehindLatest': '0.0', 'maxOffsetsBehindLatest': '0', 'minOffsetsBehindLatest': '0'}}], 'sink': {'description': 'DeltaSink[s3a://lakehouse/delta/raw_iot_data]', 'numOutputRows': -1}}\n"
     ]
    },
    {
     "name": "stderr",
     "output_type": "stream",
     "text": [
      "                                                                                \r"
     ]
    },
    {
     "name": "stdout",
     "output_type": "stream",
     "text": [
      "{'id': 'c4c5e95a-a077-482c-8787-76257b98db8f', 'runId': '04edde25-e713-41ae-852c-bde3ae79f0ce', 'name': None, 'timestamp': '2025-01-16T17:04:08.708Z', 'batchId': 159, 'numInputRows': 7, 'inputRowsPerSecond': 1.0399643440796316, 'processedRowsPerSecond': 0.7244127082686536, 'durationMs': {'addBatch': 6960, 'commitOffsets': 1291, 'getBatch': 0, 'latestOffset': 123, 'queryPlanning': 16, 'triggerExecution': 9663, 'walCommit': 1273}, 'stateOperators': [], 'sources': [{'description': 'KafkaV2[Subscribe[iot-temperature]]', 'startOffset': {'iot-temperature': {'8': 368, '11': 372, '2': 390, '5': 418, '14': 406, '13': 366, '4': 386, '7': 371, '1': 366, '10': 380, '9': 374, '3': 396, '12': 429, '6': 389, '0': 373}}, 'endOffset': {'iot-temperature': {'8': 368, '11': 372, '2': 391, '5': 418, '14': 406, '13': 366, '4': 386, '7': 371, '1': 367, '10': 381, '9': 377, '3': 396, '12': 429, '6': 389, '0': 374}}, 'latestOffset': {'iot-temperature': {'8': 368, '11': 372, '2': 391, '5': 418, '14': 406, '13': 366, '4': 386, '7': 371, '1': 367, '10': 381, '9': 377, '3': 396, '12': 429, '6': 389, '0': 374}}, 'numInputRows': 7, 'inputRowsPerSecond': 1.0399643440796316, 'processedRowsPerSecond': 0.7244127082686536, 'metrics': {'avgOffsetsBehindLatest': '0.0', 'maxOffsetsBehindLatest': '0', 'minOffsetsBehindLatest': '0'}}], 'sink': {'description': 'DeltaSink[s3a://lakehouse/delta/raw_iot_data]', 'numOutputRows': -1}}\n",
      "{'id': 'c4c5e95a-a077-482c-8787-76257b98db8f', 'runId': '04edde25-e713-41ae-852c-bde3ae79f0ce', 'name': None, 'timestamp': '2025-01-16T17:04:18.372Z', 'batchId': 160, 'numInputRows': 9, 'inputRowsPerSecond': 0.9312913907284769, 'processedRowsPerSecond': 1.300578034682081, 'durationMs': {'addBatch': 4373, 'commitOffsets': 1173, 'getBatch': 0, 'latestOffset': 125, 'queryPlanning': 4, 'triggerExecution': 6920, 'walCommit': 1245}, 'stateOperators': [], 'sources': [{'description': 'KafkaV2[Subscribe[iot-temperature]]', 'startOffset': {'iot-temperature': {'8': 368, '11': 372, '2': 391, '5': 418, '14': 406, '13': 366, '4': 386, '7': 371, '1': 367, '10': 381, '9': 377, '3': 396, '12': 429, '6': 389, '0': 374}}, 'endOffset': {'iot-temperature': {'8': 368, '11': 372, '2': 392, '5': 419, '14': 406, '13': 366, '4': 386, '7': 371, '1': 367, '10': 383, '9': 379, '3': 397, '12': 431, '6': 389, '0': 374}}, 'latestOffset': {'iot-temperature': {'8': 368, '11': 372, '2': 392, '5': 419, '14': 406, '13': 366, '4': 386, '7': 371, '1': 367, '10': 383, '9': 379, '3': 397, '12': 431, '6': 389, '0': 374}}, 'numInputRows': 9, 'inputRowsPerSecond': 0.9312913907284769, 'processedRowsPerSecond': 1.300578034682081, 'metrics': {'avgOffsetsBehindLatest': '0.0', 'maxOffsetsBehindLatest': '0', 'minOffsetsBehindLatest': '0'}}], 'sink': {'description': 'DeltaSink[s3a://lakehouse/delta/raw_iot_data]', 'numOutputRows': -1}}\n"
     ]
    },
    {
     "name": "stderr",
     "output_type": "stream",
     "text": [
      "                                                                                \r"
     ]
    },
    {
     "name": "stdout",
     "output_type": "stream",
     "text": [
      "{'id': 'c4c5e95a-a077-482c-8787-76257b98db8f', 'runId': '04edde25-e713-41ae-852c-bde3ae79f0ce', 'name': None, 'timestamp': '2025-01-16T17:04:18.372Z', 'batchId': 160, 'numInputRows': 9, 'inputRowsPerSecond': 0.9312913907284769, 'processedRowsPerSecond': 1.300578034682081, 'durationMs': {'addBatch': 4373, 'commitOffsets': 1173, 'getBatch': 0, 'latestOffset': 125, 'queryPlanning': 4, 'triggerExecution': 6920, 'walCommit': 1245}, 'stateOperators': [], 'sources': [{'description': 'KafkaV2[Subscribe[iot-temperature]]', 'startOffset': {'iot-temperature': {'8': 368, '11': 372, '2': 391, '5': 418, '14': 406, '13': 366, '4': 386, '7': 371, '1': 367, '10': 381, '9': 377, '3': 396, '12': 429, '6': 389, '0': 374}}, 'endOffset': {'iot-temperature': {'8': 368, '11': 372, '2': 392, '5': 419, '14': 406, '13': 366, '4': 386, '7': 371, '1': 367, '10': 383, '9': 379, '3': 397, '12': 431, '6': 389, '0': 374}}, 'latestOffset': {'iot-temperature': {'8': 368, '11': 372, '2': 392, '5': 419, '14': 406, '13': 366, '4': 386, '7': 371, '1': 367, '10': 383, '9': 379, '3': 397, '12': 431, '6': 389, '0': 374}}, 'numInputRows': 9, 'inputRowsPerSecond': 0.9312913907284769, 'processedRowsPerSecond': 1.300578034682081, 'metrics': {'avgOffsetsBehindLatest': '0.0', 'maxOffsetsBehindLatest': '0', 'minOffsetsBehindLatest': '0'}}], 'sink': {'description': 'DeltaSink[s3a://lakehouse/delta/raw_iot_data]', 'numOutputRows': -1}}\n",
      "{'id': 'c4c5e95a-a077-482c-8787-76257b98db8f', 'runId': '04edde25-e713-41ae-852c-bde3ae79f0ce', 'name': None, 'timestamp': '2025-01-16T17:04:25.293Z', 'batchId': 161, 'numInputRows': 7, 'inputRowsPerSecond': 1.0114145354717525, 'processedRowsPerSecond': 0.7759671876732069, 'durationMs': {'addBatch': 6570, 'commitOffsets': 1203, 'getBatch': 0, 'latestOffset': 120, 'queryPlanning': 5, 'triggerExecution': 9021, 'walCommit': 1123}, 'stateOperators': [], 'sources': [{'description': 'KafkaV2[Subscribe[iot-temperature]]', 'startOffset': {'iot-temperature': {'8': 368, '11': 372, '2': 392, '5': 419, '14': 406, '13': 366, '4': 386, '7': 371, '1': 367, '10': 383, '9': 379, '3': 397, '12': 431, '6': 389, '0': 374}}, 'endOffset': {'iot-temperature': {'8': 368, '11': 373, '2': 393, '5': 419, '14': 406, '13': 366, '4': 387, '7': 371, '1': 367, '10': 383, '9': 379, '3': 398, '12': 433, '6': 390, '0': 374}}, 'latestOffset': {'iot-temperature': {'8': 368, '11': 373, '2': 393, '5': 419, '14': 406, '13': 366, '4': 387, '7': 371, '1': 367, '10': 383, '9': 379, '3': 398, '12': 433, '6': 390, '0': 374}}, 'numInputRows': 7, 'inputRowsPerSecond': 1.0114145354717525, 'processedRowsPerSecond': 0.7759671876732069, 'metrics': {'avgOffsetsBehindLatest': '0.0', 'maxOffsetsBehindLatest': '0', 'minOffsetsBehindLatest': '0'}}], 'sink': {'description': 'DeltaSink[s3a://lakehouse/delta/raw_iot_data]', 'numOutputRows': -1}}\n"
     ]
    },
    {
     "name": "stderr",
     "output_type": "stream",
     "text": [
      "25/01/16 14:04:37 WARN MemoryManager: Total allocation exceeds 95.00% (1,020,054,720 bytes) of heap memory\n",
      "Scaling row group sizes to 95.00% for 8 writers\n",
      "                                                                                \r"
     ]
    },
    {
     "ename": "KeyboardInterrupt",
     "evalue": "",
     "output_type": "error",
     "traceback": [
      "\u001b[0;31m---------------------------------------------------------------------------\u001b[0m",
      "\u001b[0;31mKeyboardInterrupt\u001b[0m                         Traceback (most recent call last)",
      "Cell \u001b[0;32mIn[7], line 18\u001b[0m\n\u001b[1;32m     16\u001b[0m \u001b[38;5;28;01mwhile\u001b[39;00m raw_stream_query\u001b[38;5;241m.\u001b[39misActive:\n\u001b[1;32m     17\u001b[0m     \u001b[38;5;28mprint\u001b[39m(raw_stream_query\u001b[38;5;241m.\u001b[39mlastProgress)  \u001b[38;5;66;03m# Shows the latest progress info\u001b[39;00m\n\u001b[0;32m---> 18\u001b[0m     \u001b[43mtime\u001b[49m\u001b[38;5;241;43m.\u001b[39;49m\u001b[43msleep\u001b[49m\u001b[43m(\u001b[49m\u001b[38;5;241;43m5\u001b[39;49m\u001b[43m)\u001b[49m  \u001b[38;5;66;03m# Updates every 5 seconds\u001b[39;00m\n",
      "\u001b[0;31mKeyboardInterrupt\u001b[0m: "
     ]
    },
    {
     "name": "stderr",
     "output_type": "stream",
     "text": [
      "                                                                                \r"
     ]
    }
   ],
   "source": [
    "# Define the path to the raw Delta table\n",
    "raw_delta_path = \"s3a://lakehouse/delta/raw_iot_data\"\n",
    "\n",
    "# Write Kafka stream to Delta table\n",
    "raw_stream_query = parsed_stream.writeStream \\\n",
    "    .format(\"delta\") \\\n",
    "    .option(\"checkpointLocation\", \"s3a://lakehouse/delta/checkpoints/raw_iot_data\") \\\n",
    "    .outputMode(\"append\") \\\n",
    "    .start(raw_delta_path)\n",
    "\n",
    "print(\"Streaming Kafka data into Delta Lake (raw_iot_data)...\")\n",
    "\n",
    "# Monitor the query progress\n",
    "import time\n",
    "\n",
    "while raw_stream_query.isActive:\n",
    "    print(raw_stream_query.lastProgress)  # Shows the latest progress info\n",
    "    time.sleep(5)  # Updates every 5 seconds\n"
   ]
  }
 ],
 "metadata": {
  "kernelspec": {
   "display_name": ".venv",
   "language": "python",
   "name": "python3"
  },
  "language_info": {
   "codemirror_mode": {
    "name": "ipython",
    "version": 3
   },
   "file_extension": ".py",
   "mimetype": "text/x-python",
   "name": "python",
   "nbconvert_exporter": "python",
   "pygments_lexer": "ipython3",
   "version": "3.13.1"
  }
 },
 "nbformat": 4,
 "nbformat_minor": 2
}
